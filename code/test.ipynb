{
 "cells": [
  {
   "cell_type": "code",
   "execution_count": 1,
   "metadata": {
    "collapsed": true
   },
   "outputs": [],
   "source": [
    "import pandas as pd\n",
    "import pyarrow.feather as feather\n",
    "import numpy as np\n",
    "import matplotlib.pyplot as plt"
   ]
  },
  {
   "cell_type": "code",
   "execution_count": 2,
   "outputs": [],
   "source": [
    "y=np.linspace(0,10)\n",
    "x=y"
   ],
   "metadata": {
    "collapsed": false,
    "pycharm": {
     "name": "#%%\n"
    }
   }
  },
  {
   "cell_type": "code",
   "execution_count": 3,
   "outputs": [
    {
     "name": "stderr",
     "output_type": "stream",
     "text": [
      "D:\\anaconda\\lib\\site-packages\\IPython\\core\\interactiveshell.py:3444: DtypeWarning: Columns (0,4) have mixed types.Specify dtype option on import or set low_memory=False.\n",
      "  exec(code_obj, self.user_global_ns, self.user_ns)\n"
     ]
    }
   ],
   "source": [
    "crsp=pd.read_csv('CRSP_return 2009-2021.csv')"
   ],
   "metadata": {
    "collapsed": false,
    "pycharm": {
     "name": "#%%\n"
    }
   }
  },
  {
   "cell_type": "code",
   "execution_count": 2,
   "outputs": [],
   "source": [
    "ff_monthly=pd.read_csv('ff_monthly.csv')"
   ],
   "metadata": {
    "collapsed": false,
    "pycharm": {
     "name": "#%%\n"
    }
   }
  },
  {
   "cell_type": "code",
   "execution_count": 3,
   "outputs": [
    {
     "data": {
      "text/plain": "     Unnamed: 0        date  mktrf   smb   hml    rf      year  month   umd  \\\n0             0  1984-01-31  -1.92 -0.37  7.57  0.76  198400.0  100.0 -2.56   \n1             1  1984-02-29  -4.82 -1.69  3.34  0.71  198400.0  200.0  0.22   \n2             2  1984-03-30   0.63  0.07  0.47  0.73  198400.0  300.0  1.07   \n3             3  1984-04-30  -0.51 -1.16  1.19  0.81  198400.0  400.0  2.07   \n4             4  1984-05-31  -5.97  0.07  0.29  0.78  198400.0  500.0  1.51   \n..          ...         ...    ...   ...   ...   ...       ...    ...   ...   \n268         268  2006-05-31  -3.57 -2.98  2.39  0.43  200600.0  500.0 -3.70   \n269         269  2006-06-30  -0.35 -0.38  0.80  0.40  200600.0  600.0  1.54   \n270         270  2006-07-31  -0.78 -3.99  2.62  0.40  200600.0  700.0 -2.13   \n271         271  2006-08-31   2.03  1.01 -2.04  0.42  200600.0  800.0 -3.38   \n272         272  2006-09-29   1.84 -1.34  0.06  0.41  200600.0  900.0 -0.96   \n\n     net_ret_ew  gross_ret_ew  net_ret_vw  gross_ret_vw  \n0     -4.912431     -4.839647   -5.140813     -5.079979  \n1     -2.885021     -2.885021   -2.885021     -2.885021  \n2      1.649712      1.649712    1.649712      1.649712  \n3     -1.281957     -1.209158   -1.231673     -1.167461  \n4     -6.992356     -6.992356   -6.992356     -6.992356  \n..          ...           ...         ...           ...  \n268   -4.614957     -4.510421   -4.527707     -4.448911  \n269   -0.588621     -0.484487   -0.461761     -0.383017  \n270   -2.286239     -2.182572   -1.992534     -1.913849  \n271    1.562966      1.666378    1.550772      1.629052  \n272    1.447466      1.550123    1.461168      1.539098  \n\n[273 rows x 13 columns]",
      "text/html": "<div>\n<style scoped>\n    .dataframe tbody tr th:only-of-type {\n        vertical-align: middle;\n    }\n\n    .dataframe tbody tr th {\n        vertical-align: top;\n    }\n\n    .dataframe thead th {\n        text-align: right;\n    }\n</style>\n<table border=\"1\" class=\"dataframe\">\n  <thead>\n    <tr style=\"text-align: right;\">\n      <th></th>\n      <th>Unnamed: 0</th>\n      <th>date</th>\n      <th>mktrf</th>\n      <th>smb</th>\n      <th>hml</th>\n      <th>rf</th>\n      <th>year</th>\n      <th>month</th>\n      <th>umd</th>\n      <th>net_ret_ew</th>\n      <th>gross_ret_ew</th>\n      <th>net_ret_vw</th>\n      <th>gross_ret_vw</th>\n    </tr>\n  </thead>\n  <tbody>\n    <tr>\n      <th>0</th>\n      <td>0</td>\n      <td>1984-01-31</td>\n      <td>-1.92</td>\n      <td>-0.37</td>\n      <td>7.57</td>\n      <td>0.76</td>\n      <td>198400.0</td>\n      <td>100.0</td>\n      <td>-2.56</td>\n      <td>-4.912431</td>\n      <td>-4.839647</td>\n      <td>-5.140813</td>\n      <td>-5.079979</td>\n    </tr>\n    <tr>\n      <th>1</th>\n      <td>1</td>\n      <td>1984-02-29</td>\n      <td>-4.82</td>\n      <td>-1.69</td>\n      <td>3.34</td>\n      <td>0.71</td>\n      <td>198400.0</td>\n      <td>200.0</td>\n      <td>0.22</td>\n      <td>-2.885021</td>\n      <td>-2.885021</td>\n      <td>-2.885021</td>\n      <td>-2.885021</td>\n    </tr>\n    <tr>\n      <th>2</th>\n      <td>2</td>\n      <td>1984-03-30</td>\n      <td>0.63</td>\n      <td>0.07</td>\n      <td>0.47</td>\n      <td>0.73</td>\n      <td>198400.0</td>\n      <td>300.0</td>\n      <td>1.07</td>\n      <td>1.649712</td>\n      <td>1.649712</td>\n      <td>1.649712</td>\n      <td>1.649712</td>\n    </tr>\n    <tr>\n      <th>3</th>\n      <td>3</td>\n      <td>1984-04-30</td>\n      <td>-0.51</td>\n      <td>-1.16</td>\n      <td>1.19</td>\n      <td>0.81</td>\n      <td>198400.0</td>\n      <td>400.0</td>\n      <td>2.07</td>\n      <td>-1.281957</td>\n      <td>-1.209158</td>\n      <td>-1.231673</td>\n      <td>-1.167461</td>\n    </tr>\n    <tr>\n      <th>4</th>\n      <td>4</td>\n      <td>1984-05-31</td>\n      <td>-5.97</td>\n      <td>0.07</td>\n      <td>0.29</td>\n      <td>0.78</td>\n      <td>198400.0</td>\n      <td>500.0</td>\n      <td>1.51</td>\n      <td>-6.992356</td>\n      <td>-6.992356</td>\n      <td>-6.992356</td>\n      <td>-6.992356</td>\n    </tr>\n    <tr>\n      <th>...</th>\n      <td>...</td>\n      <td>...</td>\n      <td>...</td>\n      <td>...</td>\n      <td>...</td>\n      <td>...</td>\n      <td>...</td>\n      <td>...</td>\n      <td>...</td>\n      <td>...</td>\n      <td>...</td>\n      <td>...</td>\n      <td>...</td>\n    </tr>\n    <tr>\n      <th>268</th>\n      <td>268</td>\n      <td>2006-05-31</td>\n      <td>-3.57</td>\n      <td>-2.98</td>\n      <td>2.39</td>\n      <td>0.43</td>\n      <td>200600.0</td>\n      <td>500.0</td>\n      <td>-3.70</td>\n      <td>-4.614957</td>\n      <td>-4.510421</td>\n      <td>-4.527707</td>\n      <td>-4.448911</td>\n    </tr>\n    <tr>\n      <th>269</th>\n      <td>269</td>\n      <td>2006-06-30</td>\n      <td>-0.35</td>\n      <td>-0.38</td>\n      <td>0.80</td>\n      <td>0.40</td>\n      <td>200600.0</td>\n      <td>600.0</td>\n      <td>1.54</td>\n      <td>-0.588621</td>\n      <td>-0.484487</td>\n      <td>-0.461761</td>\n      <td>-0.383017</td>\n    </tr>\n    <tr>\n      <th>270</th>\n      <td>270</td>\n      <td>2006-07-31</td>\n      <td>-0.78</td>\n      <td>-3.99</td>\n      <td>2.62</td>\n      <td>0.40</td>\n      <td>200600.0</td>\n      <td>700.0</td>\n      <td>-2.13</td>\n      <td>-2.286239</td>\n      <td>-2.182572</td>\n      <td>-1.992534</td>\n      <td>-1.913849</td>\n    </tr>\n    <tr>\n      <th>271</th>\n      <td>271</td>\n      <td>2006-08-31</td>\n      <td>2.03</td>\n      <td>1.01</td>\n      <td>-2.04</td>\n      <td>0.42</td>\n      <td>200600.0</td>\n      <td>800.0</td>\n      <td>-3.38</td>\n      <td>1.562966</td>\n      <td>1.666378</td>\n      <td>1.550772</td>\n      <td>1.629052</td>\n    </tr>\n    <tr>\n      <th>272</th>\n      <td>272</td>\n      <td>2006-09-29</td>\n      <td>1.84</td>\n      <td>-1.34</td>\n      <td>0.06</td>\n      <td>0.41</td>\n      <td>200600.0</td>\n      <td>900.0</td>\n      <td>-0.96</td>\n      <td>1.447466</td>\n      <td>1.550123</td>\n      <td>1.461168</td>\n      <td>1.539098</td>\n    </tr>\n  </tbody>\n</table>\n<p>273 rows × 13 columns</p>\n</div>"
     },
     "execution_count": 3,
     "metadata": {},
     "output_type": "execute_result"
    }
   ],
   "source": [
    "ff_monthly"
   ],
   "metadata": {
    "collapsed": false,
    "pycharm": {
     "name": "#%%\n"
    }
   }
  },
  {
   "cell_type": "code",
   "execution_count": 14,
   "outputs": [
    {
     "data": {
      "text/plain": "[<matplotlib.lines.Line2D at 0x27c639950d0>]"
     },
     "execution_count": 14,
     "metadata": {},
     "output_type": "execute_result"
    },
    {
     "data": {
      "text/plain": "<Figure size 432x288 with 1 Axes>",
      "image/png": "[encoded data removed]"
     },
     "metadata": {
      "needs_background": "light"
     },
     "output_type": "display_data"
    }
   ],
   "source": [
    "b=np.linspace(-25,10)\n",
    "a=b\n",
    "plt.scatter(x,y)\n",
    "plt.plot(a,b)"
   ],
   "metadata": {
    "collapsed": false,
    "pycharm": {
     "name": "#%%\n"
    }
   }
  },
  {
   "cell_type": "code",
   "execution_count": 18,
   "outputs": [
    {
     "name": "stderr",
     "output_type": "stream",
     "text": [
      "D:\\anaconda\\lib\\site-packages\\statsmodels\\tsa\\tsatools.py:142: FutureWarning: In a future version of pandas all arguments of concat except for the argument 'objs' will be keyword-only\n",
      "  x = pd.concat(x[::order], 1)\n"
     ]
    },
    {
     "data": {
      "text/plain": "<class 'statsmodels.iolib.summary.Summary'>\n\"\"\"\n                            OLS Regression Results                            \n==============================================================================\nDep. Variable:             net_ret_vw   R-squared:                       0.957\nModel:                            OLS   Adj. R-squared:                  0.957\nMethod:                 Least Squares   F-statistic:                     6025.\nDate:                Tue, 09 Aug 2022   Prob (F-statistic):          3.89e-187\nTime:                        15:47:05   Log-Likelihood:                -382.34\nNo. Observations:                 273   AIC:                             768.7\nDf Residuals:                     271   BIC:                             775.9\nDf Model:                           1                                         \nCovariance Type:            nonrobust                                         \n==============================================================================\n                 coef    std err          t      P>|t|      [0.025      0.975]\n------------------------------------------------------------------------------\nconst         -0.1288      0.060     -2.136      0.034      -0.247      -0.010\nmktrf          1.0554      0.014     77.620      0.000       1.029       1.082\n==============================================================================\nOmnibus:                        5.183   Durbin-Watson:                   1.741\nProb(Omnibus):                  0.075   Jarque-Bera (JB):                6.956\nSkew:                          -0.081   Prob(JB):                       0.0309\nKurtosis:                       3.765   Cond. No.                         4.49\n==============================================================================\n\nNotes:\n[1] Standard Errors assume that the covariance matrix of the errors is correctly specified.\n\"\"\"",
      "text/html": "<table class=\"simpletable\">\n<caption>OLS Regression Results</caption>\n<tr>\n  <th>Dep. Variable:</th>       <td>net_ret_vw</td>    <th>  R-squared:         </th> <td>   0.957</td> \n</tr>\n<tr>\n  <th>Model:</th>                   <td>OLS</td>       <th>  Adj. R-squared:    </th> <td>   0.957</td> \n</tr>\n<tr>\n  <th>Method:</th>             <td>Least Squares</td>  <th>  F-statistic:       </th> <td>   6025.</td> \n</tr>\n<tr>\n  <th>Date:</th>             <td>Tue, 09 Aug 2022</td> <th>  Prob (F-statistic):</th> <td>3.89e-187</td>\n</tr>\n<tr>\n  <th>Time:</th>                 <td>15:47:05</td>     <th>  Log-Likelihood:    </th> <td> -382.34</td> \n</tr>\n<tr>\n  <th>No. Observations:</th>      <td>   273</td>      <th>  AIC:               </th> <td>   768.7</td> \n</tr>\n<tr>\n  <th>Df Residuals:</th>          <td>   271</td>      <th>  BIC:               </th> <td>   775.9</td> \n</tr>\n<tr>\n  <th>Df Model:</th>              <td>     1</td>      <th>                     </th>     <td> </td>    \n</tr>\n<tr>\n  <th>Covariance Type:</th>      <td>nonrobust</td>    <th>                     </th>     <td> </td>    \n</tr>\n</table>\n<table class=\"simpletable\">\n<tr>\n    <td></td>       <th>coef</th>     <th>std err</th>      <th>t</th>      <th>P>|t|</th>  <th>[0.025</th>    <th>0.975]</th>  \n</tr>\n<tr>\n  <th>const</th> <td>   -0.1288</td> <td>    0.060</td> <td>   -2.136</td> <td> 0.034</td> <td>   -0.247</td> <td>   -0.010</td>\n</tr>\n<tr>\n  <th>mktrf</th> <td>    1.0554</td> <td>    0.014</td> <td>   77.620</td> <td> 0.000</td> <td>    1.029</td> <td>    1.082</td>\n</tr>\n</table>\n<table class=\"simpletable\">\n<tr>\n  <th>Omnibus:</th>       <td> 5.183</td> <th>  Durbin-Watson:     </th> <td>   1.741</td>\n</tr>\n<tr>\n  <th>Prob(Omnibus):</th> <td> 0.075</td> <th>  Jarque-Bera (JB):  </th> <td>   6.956</td>\n</tr>\n<tr>\n  <th>Skew:</th>          <td>-0.081</td> <th>  Prob(JB):          </th> <td>  0.0309</td>\n</tr>\n<tr>\n  <th>Kurtosis:</th>      <td> 3.765</td> <th>  Cond. No.          </th> <td>    4.49</td>\n</tr>\n</table><br/><br/>Notes:<br/>[1] Standard Errors assume that the covariance matrix of the errors is correctly specified."
     },
     "execution_count": 18,
     "metadata": {},
     "output_type": "execute_result"
    }
   ],
   "source": [
    "import statsmodels.api as sm\n",
    "x = sm.add_constant(x)\n",
    "model = sm.OLS(y,x)\n",
    "results = model.fit()\n",
    "results.summary()"
   ],
   "metadata": {
    "collapsed": false,
    "pycharm": {
     "name": "#%%\n"
    }
   }
  },
  {
   "cell_type": "code",
   "execution_count": 8,
   "outputs": [],
   "source": [
    "x=ff_monthly['mktrf']\n",
    "y=ff_monthly['net_ret_vw']"
   ],
   "metadata": {
    "collapsed": false,
    "pycharm": {
     "name": "#%%\n"
    }
   }
  },
  {
   "cell_type": "code",
   "execution_count": null,
   "outputs": [],
   "source": [],
   "metadata": {
    "collapsed": false,
    "pycharm": {
     "name": "#%%\n"
    }
   }
  }
 ],
 "metadata": {
  "kernelspec": {
   "display_name": "Python 3",
   "language": "python",
   "name": "python3"
  },
  "language_info": {
   "codemirror_mode": {
    "name": "ipython",
    "version": 2
   },
   "file_extension": ".py",
   "mimetype": "text/x-python",
   "name": "python",
   "nbconvert_exporter": "python",
   "pygments_lexer": "ipython2",
   "version": "2.7.6"
  }
 },
 "nbformat": 4,
 "nbformat_minor": 0
}