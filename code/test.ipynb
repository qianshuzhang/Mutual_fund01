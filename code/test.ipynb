{
 "cells": [
  {
   "cell_type": "code",
   "execution_count": 2,
   "metadata": {
    "collapsed": true
   },
   "outputs": [],
   "source": [
    "import pandas as pd\n",
    "import pyarrow.feather as feather\n",
    "import numpy as np\n",
    "import matplotlib.pyplot as plt"
   ]
  },
  {
   "cell_type": "code",
   "execution_count": 137,
   "outputs": [
    {
     "name": "stderr",
     "output_type": "stream",
     "text": [
      "C:\\Users\\Justin\\AppData\\Local\\Temp/ipykernel_24880/3084116576.py:34: RuntimeWarning: invalid value encountered in double_scalars\n",
      "  lambda x: np.nansum(x['per_com']) / np.count_nonzero(x['per_com']))\n"
     ]
    }
   ],
   "source": [
    "crsp_policy_to_exclude = ['C & I', 'Bal', 'Bonds', 'Pfd', 'B & P', 'GS', 'MM', 'TFM']\n",
    "lipper_class = ['EIEI', 'G', 'LCCE', 'LCGE', 'LCVE', 'MCCE', 'MCGE', 'MCVE',\n",
    "                'MLCE', 'MLGE', 'MLVE', 'SCCE', 'SCGE', 'SCVE']\n",
    "lipper_obj_cd = ['CA', 'EI', 'G', 'GI', 'MC', 'MR', 'SG']\n",
    "si_obj_cd = ['AGG', 'GMC', 'GRI', 'GRO', 'ING', 'SCG']\n",
    "wbrger_obj_cd=['G', 'G-I', 'AGG', 'GCI', 'GRI', 'GRO', 'LTG', 'MCG','SCG']\n",
    "##############################\n",
    "#\n",
    "begin_date='1980-01-01'\n",
    "end_date='2019-01-31'\n",
    "\n",
    "##############################\n",
    "with open('../../data/data/style.feather', 'rb') as f:\n",
    "    style=feather.read_feather(f)\n",
    "with open('../../data/data/names.feather', 'rb') as f:\n",
    "    names=feather.read_feather(f)\n",
    "with open('../../data/data/fund_summary.feather', 'rb') as f:\n",
    "    fund_summary=feather.read_feather(f)\n",
    "names.drop_duplicates(subset=['crsp_fundno'], keep='last', inplace=True)\n",
    "\n",
    "style=style[(style['begdt'].astype(str)>=begin_date)&(style['enddt'].astype(str)<=end_date)]\n",
    "names=names[(names['chgdt'].astype(str)>=begin_date)&(names['chgenddt'].astype(str)<=end_date)]\n",
    "fund_summary=fund_summary[(fund_summary['caldt'].astype(str)>=begin_date)&(fund_summary['caldt'].astype(str)<=end_date)]\n",
    "\n",
    "# investing on average less than 80% of their assets, excluding cash, in common stocks\n",
    "fund_summary['per_cash']=fund_summary['per_cash'].replace(np.nan,0)\n",
    "fund_summary['per_pref']=fund_summary['per_pref'].replace(np.nan,0)\n",
    "fund_summary['per_eq_oth']=fund_summary['per_eq_oth'].replace(np.nan,0)\n",
    "fund_summary['per_com']=fund_summary['per_com'].replace(np.nan,0)\n",
    "fund_summary['per_com_st']=(fund_summary['per_com']+fund_summary['per_pref']+fund_summary['per_eq_oth'])*100/(100-fund_summary['per_cash'])\n",
    "fund_summary['per_com']=fund_summary['per_com_st']\n",
    "\n",
    "per_com = fund_summary.groupby(['crsp_fundno']).apply(\n",
    "    lambda x: np.nansum(x['per_com']) / np.count_nonzero(x['per_com']))\n",
    "per_com = per_com.reset_index()\n",
    "per_com.columns = ['crsp_fundno', 'per_com']\n",
    "style = pd.merge(style, per_com)\n",
    "style = style[style['per_com'] > 80]"
   ],
   "metadata": {
    "collapsed": false,
    "pycharm": {
     "name": "#%%\n"
    }
   }
  },
  {
   "cell_type": "code",
   "execution_count": 136,
   "outputs": [
    {
     "data": {
      "text/plain": "        crsp_fundno  short_way\n15              7.0          1\n29             13.0          1\n46             23.0          1\n48             25.0          1\n59             33.0          1\n...             ...        ...\n178747      94655.0          1\n178761      94663.0          1\n178780      94674.0          1\n178793      94683.0          1\n178819      94699.0          1\n\n[20318 rows x 2 columns]",
      "text/html": "<div>\n<style scoped>\n    .dataframe tbody tr th:only-of-type {\n        vertical-align: middle;\n    }\n\n    .dataframe tbody tr th {\n        vertical-align: top;\n    }\n\n    .dataframe thead th {\n        text-align: right;\n    }\n</style>\n<table border=\"1\" class=\"dataframe\">\n  <thead>\n    <tr style=\"text-align: right;\">\n      <th></th>\n      <th>crsp_fundno</th>\n      <th>short_way</th>\n    </tr>\n  </thead>\n  <tbody>\n    <tr>\n      <th>15</th>\n      <td>7.0</td>\n      <td>1</td>\n    </tr>\n    <tr>\n      <th>29</th>\n      <td>13.0</td>\n      <td>1</td>\n    </tr>\n    <tr>\n      <th>46</th>\n      <td>23.0</td>\n      <td>1</td>\n    </tr>\n    <tr>\n      <th>48</th>\n      <td>25.0</td>\n      <td>1</td>\n    </tr>\n    <tr>\n      <th>59</th>\n      <td>33.0</td>\n      <td>1</td>\n    </tr>\n    <tr>\n      <th>...</th>\n      <td>...</td>\n      <td>...</td>\n    </tr>\n    <tr>\n      <th>178747</th>\n      <td>94655.0</td>\n      <td>1</td>\n    </tr>\n    <tr>\n      <th>178761</th>\n      <td>94663.0</td>\n      <td>1</td>\n    </tr>\n    <tr>\n      <th>178780</th>\n      <td>94674.0</td>\n      <td>1</td>\n    </tr>\n    <tr>\n      <th>178793</th>\n      <td>94683.0</td>\n      <td>1</td>\n    </tr>\n    <tr>\n      <th>178819</th>\n      <td>94699.0</td>\n      <td>1</td>\n    </tr>\n  </tbody>\n</table>\n<p>20318 rows × 2 columns</p>\n</div>"
     },
     "execution_count": 136,
     "metadata": {},
     "output_type": "execute_result"
    }
   ],
   "source": [
    "funds2"
   ],
   "metadata": {
    "collapsed": false,
    "pycharm": {
     "name": "#%%\n"
    }
   }
  },
  {
   "cell_type": "code",
   "execution_count": 130,
   "outputs": [
    {
     "data": {
      "text/plain": "        crsp_fundno  short_way\n15              7.0          1\n29             13.0          1\n46             23.0          1\n48             25.0          1\n59             33.0          1\n...             ...        ...\n178747      94655.0          1\n178761      94663.0          1\n178780      94674.0          1\n178793      94683.0          1\n178819      94699.0          1\n\n[20318 rows x 2 columns]",
      "text/html": "<div>\n<style scoped>\n    .dataframe tbody tr th:only-of-type {\n        vertical-align: middle;\n    }\n\n    .dataframe tbody tr th {\n        vertical-align: top;\n    }\n\n    .dataframe thead th {\n        text-align: right;\n    }\n</style>\n<table border=\"1\" class=\"dataframe\">\n  <thead>\n    <tr style=\"text-align: right;\">\n      <th></th>\n      <th>crsp_fundno</th>\n      <th>short_way</th>\n    </tr>\n  </thead>\n  <tbody>\n    <tr>\n      <th>15</th>\n      <td>7.0</td>\n      <td>1</td>\n    </tr>\n    <tr>\n      <th>29</th>\n      <td>13.0</td>\n      <td>1</td>\n    </tr>\n    <tr>\n      <th>46</th>\n      <td>23.0</td>\n      <td>1</td>\n    </tr>\n    <tr>\n      <th>48</th>\n      <td>25.0</td>\n      <td>1</td>\n    </tr>\n    <tr>\n      <th>59</th>\n      <td>33.0</td>\n      <td>1</td>\n    </tr>\n    <tr>\n      <th>...</th>\n      <td>...</td>\n      <td>...</td>\n    </tr>\n    <tr>\n      <th>178747</th>\n      <td>94655.0</td>\n      <td>1</td>\n    </tr>\n    <tr>\n      <th>178761</th>\n      <td>94663.0</td>\n      <td>1</td>\n    </tr>\n    <tr>\n      <th>178780</th>\n      <td>94674.0</td>\n      <td>1</td>\n    </tr>\n    <tr>\n      <th>178793</th>\n      <td>94683.0</td>\n      <td>1</td>\n    </tr>\n    <tr>\n      <th>178819</th>\n      <td>94699.0</td>\n      <td>1</td>\n    </tr>\n  </tbody>\n</table>\n<p>20318 rows × 2 columns</p>\n</div>"
     },
     "execution_count": 130,
     "metadata": {},
     "output_type": "execute_result"
    }
   ],
   "source": [
    "funds2"
   ],
   "metadata": {
    "collapsed": false,
    "pycharm": {
     "name": "#%%\n"
    }
   }
  },
  {
   "cell_type": "code",
   "execution_count": 138,
   "outputs": [],
   "source": [
    "funds = style[(style['lipper_class'].isin(lipper_class)) | (style['lipper_obj_cd'].isin(lipper_obj_cd)) | (\n",
    "    style['si_obj_cd'].isin(si_obj_cd)) | (style['wbrger_obj_cd'].isin(wbrger_obj_cd))]\n",
    "funds = funds[~funds['policy'].isin(crsp_policy_to_exclude)]\n",
    "funds['long_way'] = 1\n",
    "funds = funds[['crsp_fundno', 'long_way']]\n",
    "funds.drop_duplicates(inplace=True)"
   ],
   "metadata": {
    "collapsed": false,
    "pycharm": {
     "name": "#%%\n"
    }
   }
  },
  {
   "cell_type": "code",
   "execution_count": 139,
   "outputs": [
    {
     "name": "stderr",
     "output_type": "stream",
     "text": [
      "C:\\Users\\Justin\\AppData\\Local\\Temp/ipykernel_24880/2434221775.py:4: SettingWithCopyWarning: \n",
      "A value is trying to be set on a copy of a slice from a DataFrame.\n",
      "Try using .loc[row_indexer,col_indexer] = value instead\n",
      "\n",
      "See the caveats in the documentation: https://pandas.pydata.org/pandas-docs/stable/user_guide/indexing.html#returning-a-view-versus-a-copy\n",
      "  funds2['short_way'] = 1\n"
     ]
    }
   ],
   "source": [
    "funds2 = style[(style['crsp_obj_cd'].str[:1] == 'E') & (style['crsp_obj_cd'].str[1:2] == 'D') & (\n",
    "    style['crsp_obj_cd'].str[2:3].isin(['C', 'Y'])) & (~style['crsp_obj_cd'].str[2:4].isin(['YH', 'YS'])) & (\n",
    "                       style['si_obj_cd'] != 'OPI')]\n",
    "funds2['short_way'] = 1\n",
    "funds2 = funds2[['crsp_fundno', 'short_way']]\n",
    "funds2.drop_duplicates(inplace=True)"
   ],
   "metadata": {
    "collapsed": false,
    "pycharm": {
     "name": "#%%\n"
    }
   }
  },
  {
   "cell_type": "code",
   "execution_count": 140,
   "outputs": [
    {
     "name": "stderr",
     "output_type": "stream",
     "text": [
      "C:\\Users\\Justin\\AppData\\Local\\Temp/ipykernel_24880/79663366.py:12: SettingWithCopyWarning: \n",
      "A value is trying to be set on a copy of a slice from a DataFrame.\n",
      "Try using .loc[row_indexer,col_indexer] = value instead\n",
      "\n",
      "See the caveats in the documentation: https://pandas.pydata.org/pandas-docs/stable/user_guide/indexing.html#returning-a-view-versus-a-copy\n",
      "  funds7['namex'] = funds7['fund_name'].str.lower()\n"
     ]
    }
   ],
   "source": [
    "funds4 = pd.merge(funds2, style[['crsp_fundno', 'crsp_obj_cd', 'begdt']], on=['crsp_fundno'],\n",
    "                  sort=['crsp_fundno', 'begdt'])\n",
    "funds4['flipper'] = 0\n",
    "funds4.loc[~funds4['crsp_obj_cd'].str[0:3].isin(['EDC', 'EDY']), 'flipper'] = 1\n",
    "funds5 = funds4.groupby('crsp_fundno', group_keys=False).apply(lambda x: x.loc[x.flipper.idxmax()])\n",
    "funds5.reset_index(drop=True, inplace=True)\n",
    "\n",
    "funds6 = pd.merge(funds5, names, on='crsp_fundno')\n",
    "\n",
    "counties = funds6.groupby('crsp_fundno')['index_fund_flag'].sum() == 0\n",
    "funds7 = funds6.loc[counties.values == True]\n",
    "funds7['namex'] = funds7['fund_name'].str.lower()\n",
    "\n",
    "funds8 = funds7[(~funds7['namex'].str.contains('index')) & (~funds7['namex'].str.contains('s&p')) & (\n",
    "    ~funds7['namex'].str.contains('idx')) &\n",
    "                (~funds7['namex'].str.contains('dfa')) & (~funds7['namex'].str.contains('program')) & (\n",
    "                    ~funds7['namex'].str.contains('etf')) &\n",
    "                (~funds7['namex'].str.contains('exchange traded')) & (\n",
    "                    ~funds7['namex'].str.contains('exchange-traded')) &\n",
    "                (~funds7['namex'].str.contains('target')) & (~funds7['namex'].str.contains('2005')) &\n",
    "                (~funds7['namex'].str.contains('2010')) & (~funds7['namex'].str.contains('2015')) &\n",
    "                (~funds7['namex'].str.contains('2020')) & (~funds7['namex'].str.contains('2025')) &\n",
    "                (~funds7['namex'].str.contains('2030')) & (~funds7['namex'].str.contains('2035')) &\n",
    "                (~funds7['namex'].str.contains('2040')) & (~funds7['namex'].str.contains('2045')) &\n",
    "                (~funds7['namex'].str.contains('2050')) & (~funds7['namex'].str.contains('2055'))]\n",
    "\n",
    "with open('../../data/data/mflink.feather', 'rb') as f:\n",
    "    mflink=feather.read_feather(f)\n",
    "\n",
    "equity_funds = pd.merge(funds8, mflink, on='crsp_fundno')\n",
    "equity_funds = equity_funds[equity_funds['flipper'] == 0]"
   ],
   "metadata": {
    "collapsed": false,
    "pycharm": {
     "name": "#%%\n"
    }
   }
  },
  {
   "cell_type": "code",
   "execution_count": 141,
   "outputs": [
    {
     "data": {
      "text/plain": "      crsp_fundno  short_way crsp_obj_cd       begdt  flipper    cusip8  \\\n0             7.0          1        EDYG  1994-12-30        0  02317K67   \n1            23.0          1        EDYB  1994-12-30        0      None   \n2            25.0          1        EDYG  1993-12-31        0  02317K65   \n3            33.0          1        EDYG  1997-12-31        0      None   \n4            43.0          1        EDYG  1991-12-31        0      None   \n...           ...        ...         ...         ...      ...       ...   \n7612      91662.0          1        EDCM  2017-08-03        0  54400A48   \n7613      91717.0          1        EDYG  2017-08-14        0  36240150   \n7614      92632.0          1        EDCM  2017-11-27        0  14214L52   \n7615      92635.0          1        EDCS  2017-11-27        0  14214L36   \n7616      93092.0          1        EDYG  2018-02-05        0  00770X36   \n\n           chgdt    chgenddt  crsp_portno  crsp_cl_grp  ... vau_fund et_flag  \\\n0     1994-12-30  1995-05-31          NaN          NaN  ...        N    None   \n1     1994-01-01  1994-10-31          NaN          NaN  ...        N    None   \n2     1995-01-01  1995-05-31          NaN          NaN  ...        N    None   \n3     1999-12-31  1999-11-30          NaN    2000006.0  ...        N    None   \n4     1993-01-02  1994-11-30          NaN          NaN  ...        N    None   \n...          ...         ...          ...          ...  ...      ...     ...   \n7612  2017-08-08  2018-06-29    1027645.0    2005872.0  ...        N    None   \n7613  2017-08-15  2018-08-31    1021754.0    2014540.0  ...        N    None   \n7614  2018-04-04  2018-06-29    1024906.0    2004627.0  ...        N    None   \n7615  2018-04-04  2018-06-29    1029241.0    2013649.0  ...        N    None   \n7616  2018-09-18  2018-08-31    1031780.0    2016830.0  ...        N    None   \n\n     delist_cd header first_offer_dt      end_dt dead_flag merge_fundno  \\\n0            M    1.0     1992-01-01  1995-05-31         Y      21296.0   \n1            L    1.0     1994-01-01  1994-10-31         Y          NaN   \n2            M    1.0     1992-01-01  1995-05-31         Y      21286.0   \n3            L    1.0     1994-12-09  1999-11-30         Y          NaN   \n4            M    1.0     1990-01-01  1994-11-30         Y      18088.0   \n...        ...    ...            ...         ...       ...          ...   \n7612         L    1.0     2017-07-28  2018-06-29         Y          NaN   \n7613         L    1.0     2017-07-28  2018-08-31         Y          NaN   \n7614         M    1.0     2017-11-20  2018-06-29         Y      92633.0   \n7615         M    1.0     2017-11-20  2018-06-29         Y      92608.0   \n7616         L    1.0     2018-01-29  2018-08-31         Y          NaN   \n\n                                                  namex     wficn  \n0          ambassador funds:established co gr/fiduciary  100154.0  \n1          alexander hamilton equity growth & income fd  100088.0  \n2           ambassador funds:established co gr/retail a  100154.0  \n3     professionally managed portfolios: academy val...  105402.0  \n4                                    advisors fund lp/a  100039.0  \n...                                                 ...       ...  \n7612  lord abbett securities trust: lord abbett valu...  410559.0  \n7613              gabelli esg fund, inc; class t shares  501719.0  \n7614  carillon series trust: carillon eagle mid cap ...  106353.0  \n7615  carillon series trust: carillon eagle smaller ...  601590.0  \n7616  advisors series trust: scharf fund; class r6 s...  607979.0  \n\n[7201 rows x 33 columns]",
      "text/html": "<div>\n<style scoped>\n    .dataframe tbody tr th:only-of-type {\n        vertical-align: middle;\n    }\n\n    .dataframe tbody tr th {\n        vertical-align: top;\n    }\n\n    .dataframe thead th {\n        text-align: right;\n    }\n</style>\n<table border=\"1\" class=\"dataframe\">\n  <thead>\n    <tr style=\"text-align: right;\">\n      <th></th>\n      <th>crsp_fundno</th>\n      <th>short_way</th>\n      <th>crsp_obj_cd</th>\n      <th>begdt</th>\n      <th>flipper</th>\n      <th>cusip8</th>\n      <th>chgdt</th>\n      <th>chgenddt</th>\n      <th>crsp_portno</th>\n      <th>crsp_cl_grp</th>\n      <th>...</th>\n      <th>vau_fund</th>\n      <th>et_flag</th>\n      <th>delist_cd</th>\n      <th>header</th>\n      <th>first_offer_dt</th>\n      <th>end_dt</th>\n      <th>dead_flag</th>\n      <th>merge_fundno</th>\n      <th>namex</th>\n      <th>wficn</th>\n    </tr>\n  </thead>\n  <tbody>\n    <tr>\n      <th>0</th>\n      <td>7.0</td>\n      <td>1</td>\n      <td>EDYG</td>\n      <td>1994-12-30</td>\n      <td>0</td>\n      <td>02317K67</td>\n      <td>1994-12-30</td>\n      <td>1995-05-31</td>\n      <td>NaN</td>\n      <td>NaN</td>\n      <td>...</td>\n      <td>N</td>\n      <td>None</td>\n      <td>M</td>\n      <td>1.0</td>\n      <td>1992-01-01</td>\n      <td>1995-05-31</td>\n      <td>Y</td>\n      <td>21296.0</td>\n      <td>ambassador funds:established co gr/fiduciary</td>\n      <td>100154.0</td>\n    </tr>\n    <tr>\n      <th>1</th>\n      <td>23.0</td>\n      <td>1</td>\n      <td>EDYB</td>\n      <td>1994-12-30</td>\n      <td>0</td>\n      <td>None</td>\n      <td>1994-01-01</td>\n      <td>1994-10-31</td>\n      <td>NaN</td>\n      <td>NaN</td>\n      <td>...</td>\n      <td>N</td>\n      <td>None</td>\n      <td>L</td>\n      <td>1.0</td>\n      <td>1994-01-01</td>\n      <td>1994-10-31</td>\n      <td>Y</td>\n      <td>NaN</td>\n      <td>alexander hamilton equity growth &amp; income fd</td>\n      <td>100088.0</td>\n    </tr>\n    <tr>\n      <th>2</th>\n      <td>25.0</td>\n      <td>1</td>\n      <td>EDYG</td>\n      <td>1993-12-31</td>\n      <td>0</td>\n      <td>02317K65</td>\n      <td>1995-01-01</td>\n      <td>1995-05-31</td>\n      <td>NaN</td>\n      <td>NaN</td>\n      <td>...</td>\n      <td>N</td>\n      <td>None</td>\n      <td>M</td>\n      <td>1.0</td>\n      <td>1992-01-01</td>\n      <td>1995-05-31</td>\n      <td>Y</td>\n      <td>21286.0</td>\n      <td>ambassador funds:established co gr/retail a</td>\n      <td>100154.0</td>\n    </tr>\n    <tr>\n      <th>3</th>\n      <td>33.0</td>\n      <td>1</td>\n      <td>EDYG</td>\n      <td>1997-12-31</td>\n      <td>0</td>\n      <td>None</td>\n      <td>1999-12-31</td>\n      <td>1999-11-30</td>\n      <td>NaN</td>\n      <td>2000006.0</td>\n      <td>...</td>\n      <td>N</td>\n      <td>None</td>\n      <td>L</td>\n      <td>1.0</td>\n      <td>1994-12-09</td>\n      <td>1999-11-30</td>\n      <td>Y</td>\n      <td>NaN</td>\n      <td>professionally managed portfolios: academy val...</td>\n      <td>105402.0</td>\n    </tr>\n    <tr>\n      <th>4</th>\n      <td>43.0</td>\n      <td>1</td>\n      <td>EDYG</td>\n      <td>1991-12-31</td>\n      <td>0</td>\n      <td>None</td>\n      <td>1993-01-02</td>\n      <td>1994-11-30</td>\n      <td>NaN</td>\n      <td>NaN</td>\n      <td>...</td>\n      <td>N</td>\n      <td>None</td>\n      <td>M</td>\n      <td>1.0</td>\n      <td>1990-01-01</td>\n      <td>1994-11-30</td>\n      <td>Y</td>\n      <td>18088.0</td>\n      <td>advisors fund lp/a</td>\n      <td>100039.0</td>\n    </tr>\n    <tr>\n      <th>...</th>\n      <td>...</td>\n      <td>...</td>\n      <td>...</td>\n      <td>...</td>\n      <td>...</td>\n      <td>...</td>\n      <td>...</td>\n      <td>...</td>\n      <td>...</td>\n      <td>...</td>\n      <td>...</td>\n      <td>...</td>\n      <td>...</td>\n      <td>...</td>\n      <td>...</td>\n      <td>...</td>\n      <td>...</td>\n      <td>...</td>\n      <td>...</td>\n      <td>...</td>\n      <td>...</td>\n    </tr>\n    <tr>\n      <th>7612</th>\n      <td>91662.0</td>\n      <td>1</td>\n      <td>EDCM</td>\n      <td>2017-08-03</td>\n      <td>0</td>\n      <td>54400A48</td>\n      <td>2017-08-08</td>\n      <td>2018-06-29</td>\n      <td>1027645.0</td>\n      <td>2005872.0</td>\n      <td>...</td>\n      <td>N</td>\n      <td>None</td>\n      <td>L</td>\n      <td>1.0</td>\n      <td>2017-07-28</td>\n      <td>2018-06-29</td>\n      <td>Y</td>\n      <td>NaN</td>\n      <td>lord abbett securities trust: lord abbett valu...</td>\n      <td>410559.0</td>\n    </tr>\n    <tr>\n      <th>7613</th>\n      <td>91717.0</td>\n      <td>1</td>\n      <td>EDYG</td>\n      <td>2017-08-14</td>\n      <td>0</td>\n      <td>36240150</td>\n      <td>2017-08-15</td>\n      <td>2018-08-31</td>\n      <td>1021754.0</td>\n      <td>2014540.0</td>\n      <td>...</td>\n      <td>N</td>\n      <td>None</td>\n      <td>L</td>\n      <td>1.0</td>\n      <td>2017-07-28</td>\n      <td>2018-08-31</td>\n      <td>Y</td>\n      <td>NaN</td>\n      <td>gabelli esg fund, inc; class t shares</td>\n      <td>501719.0</td>\n    </tr>\n    <tr>\n      <th>7614</th>\n      <td>92632.0</td>\n      <td>1</td>\n      <td>EDCM</td>\n      <td>2017-11-27</td>\n      <td>0</td>\n      <td>14214L52</td>\n      <td>2018-04-04</td>\n      <td>2018-06-29</td>\n      <td>1024906.0</td>\n      <td>2004627.0</td>\n      <td>...</td>\n      <td>N</td>\n      <td>None</td>\n      <td>M</td>\n      <td>1.0</td>\n      <td>2017-11-20</td>\n      <td>2018-06-29</td>\n      <td>Y</td>\n      <td>92633.0</td>\n      <td>carillon series trust: carillon eagle mid cap ...</td>\n      <td>106353.0</td>\n    </tr>\n    <tr>\n      <th>7615</th>\n      <td>92635.0</td>\n      <td>1</td>\n      <td>EDCS</td>\n      <td>2017-11-27</td>\n      <td>0</td>\n      <td>14214L36</td>\n      <td>2018-04-04</td>\n      <td>2018-06-29</td>\n      <td>1029241.0</td>\n      <td>2013649.0</td>\n      <td>...</td>\n      <td>N</td>\n      <td>None</td>\n      <td>M</td>\n      <td>1.0</td>\n      <td>2017-11-20</td>\n      <td>2018-06-29</td>\n      <td>Y</td>\n      <td>92608.0</td>\n      <td>carillon series trust: carillon eagle smaller ...</td>\n      <td>601590.0</td>\n    </tr>\n    <tr>\n      <th>7616</th>\n      <td>93092.0</td>\n      <td>1</td>\n      <td>EDYG</td>\n      <td>2018-02-05</td>\n      <td>0</td>\n      <td>00770X36</td>\n      <td>2018-09-18</td>\n      <td>2018-08-31</td>\n      <td>1031780.0</td>\n      <td>2016830.0</td>\n      <td>...</td>\n      <td>N</td>\n      <td>None</td>\n      <td>L</td>\n      <td>1.0</td>\n      <td>2018-01-29</td>\n      <td>2018-08-31</td>\n      <td>Y</td>\n      <td>NaN</td>\n      <td>advisors series trust: scharf fund; class r6 s...</td>\n      <td>607979.0</td>\n    </tr>\n  </tbody>\n</table>\n<p>7201 rows × 33 columns</p>\n</div>"
     },
     "execution_count": 141,
     "metadata": {},
     "output_type": "execute_result"
    }
   ],
   "source": [
    "equity_funds"
   ],
   "metadata": {
    "collapsed": false,
    "pycharm": {
     "name": "#%%\n"
    }
   }
  },
  {
   "cell_type": "code",
   "execution_count": 115,
   "outputs": [],
   "source": [
    "with open('../../data/data/tna_ret_nav.feather', 'rb') as f:\n",
    "    tna_ret_nav=feather.read_feather(f)\n",
    "tna_ret_nav=tna_ret_nav[(tna_ret_nav['caldt'].astype(str)>=begin_date)&(tna_ret_nav['caldt'].astype(str)<=end_date)]\n",
    "\n",
    "returns1 = pd.merge(equity_funds, tna_ret_nav, on='crsp_fundno')\n",
    "returns1.rename(columns={'caldt': 'date'}, inplace=True)\n",
    "\n",
    "# compute gross return\n",
    "with open('../../data/data/fund_fees.feather', 'rb') as f:\n",
    "    fund_fees=feather.read_feather(f)\n",
    "returns2 = pd.merge(returns1, fund_fees, on='crsp_fundno')\n",
    "returns2 = returns2[(returns2['date'] >= returns2['begdt_y']) & (returns2['date'] <= returns2['enddt'])]\n",
    "returns2['rret'] = returns2['mret'] + returns2['exp_ratio'] / 12\n",
    "returns2.sort_values(by=['crsp_fundno', 'date'], inplace=True)\n",
    "\n",
    "returns2['flag'] = (returns2.crsp_fundno != returns2.crsp_fundno.shift()).astype(int)\n",
    "returns2['weight'] = returns2['mtna'].shift()\n",
    "returns2.loc[returns2['flag'] == 1, 'weight'] = returns2.loc[returns2['flag'] == 1, 'mtna']\n",
    "returns2 = returns2[returns2['weight'] != 0]\n",
    "returns2['age'] = (returns2['end_dt'] - returns2['first_offer_dt']) / np.timedelta64(1, 'Y')\n",
    "\n",
    "# keep only observations dated after the fund's first offer date.\n",
    "returns2 = returns2[returns2['date'] > returns2['first_offer_dt']]\n",
    "\n",
    "# aggregate multiple share classes\n",
    "returns2.sort_values(by=['wficn', 'date'], inplace=True)\n",
    "\n",
    "# monthly return\n",
    "mret = returns2.groupby(['wficn', 'date']).apply(lambda x: np.average(x['mret'], weights=x['weight']))\n",
    "returns = mret.reset_index()\n",
    "returns.columns = ['wficn', 'date', 'mret']\n",
    "\n",
    "# monthly total net assets\n",
    "mtna = returns2.groupby(['wficn', 'date']).apply(lambda x: np.sum(x['mtna']))\n",
    "mtna = mtna.reset_index()\n",
    "returns['mtna'] = mtna[0]\n",
    "\n",
    "# weight\n",
    "weight = returns2.groupby(['wficn', 'date']).apply(lambda x: np.sum(x['weight']))\n",
    "weight = weight.reset_index()\n",
    "returns['weight'] = weight[0]\n",
    "\n",
    "# gross return\n",
    "rret = returns2.groupby(['wficn', 'date']).apply(lambda x: np.average(x['rret'], weights=x['weight']))\n",
    "rret = rret.reset_index()\n",
    "returns['rret'] = rret[0]\n",
    "\n",
    "# turnover ratio\n",
    "turnover = returns2.groupby(['wficn', 'date']).apply(lambda x: np.average(x['turn_ratio'], weights=x['weight']))\n",
    "turnover = turnover.reset_index()\n",
    "returns['turnover'] = turnover[0]\n",
    "\n",
    "# expense ratio\n",
    "expense = returns2.groupby(['wficn', 'date']).apply(lambda x: np.average(x['exp_ratio'], weights=x['weight']))\n",
    "expense = expense.reset_index()\n",
    "returns['exp_ratio'] = expense[0]\n",
    "\n",
    "# fund age\n",
    "age = returns2.groupby(['wficn', 'date']).apply(lambda x: np.max(x['age']))\n",
    "age = age.reset_index()\n",
    "returns['age'] = age[0]\n",
    "\n",
    "# fund flow\n",
    "returns['cum_ret'] = (1 + returns['mret']).rolling(12).apply(np.prod, raw=True) - 1\n",
    "returns['flow'] = (returns['mtna'] - returns.groupby(['wficn'])['mtna'].shift(12) * returns['cum_ret']) / \\\n",
    "                  returns.groupby(['wficn'])['mtna'].shift(12)\n",
    "returns.loc[returns['flow'] > 20, 'flow'] = np.nan\n",
    "\n",
    "# fund vol\n",
    "returns['vol'] = returns.groupby(['wficn'])['mret'].rolling(12).std().reset_index()['mret']\n",
    "\n",
    "# exclude funds with less than 12 months of observations\n",
    "obs = returns.groupby(['wficn'])['mtna'].count()\n",
    "obs = obs.reset_index()\n",
    "obs.columns = ['wficn', 'obs']\n",
    "returns = pd.merge(returns, obs)\n",
    "returns = returns[returns['obs'] >= 12]\n",
    "\n",
    "# We also exclude fund observations before a fund passes the $5 million threshold for assets under management (AUM).\n",
    "# All subsequent observations, including those that fall under the $5 million AUM threshold in the future, are included.\n",
    "\n",
    "mtna_group = 5\n",
    "returns['tna_ind'] = 0\n",
    "for w in returns['wficn'].unique():\n",
    "    for index, row in returns[returns['wficn'] == w].iterrows():\n",
    "        if row['mtna'] < mtna_group:\n",
    "            returns.at[index, 'tna_ind'] += 1\n",
    "        else:\n",
    "            break\n",
    "\n",
    "returns.drop(index=returns[returns['tna_ind'] == 1].index, inplace=True)\n",
    "\n",
    "########### 75% no less than 5 million\n",
    "aum = returns.sort_values(by=['wficn', 'date'], ascending=False).groupby(['wficn']).head(12)\n",
    "for index, row in aum.iterrows():\n",
    "    if row['mtna'] < mtna_group:\n",
    "        aum.at[index, 'tna_ind'] += 1\n",
    "total_aum = aum.groupby(['wficn'])['tna_ind'].sum()\n",
    "\n",
    "returns = returns[~returns['wficn'].isin(total_aum[total_aum > 3].index)]\n",
    "#returns=returns[(returns['date'].astype(str)>=begin_date)&(returns['date'].astype(str)<=end_date)]"
   ],
   "metadata": {
    "collapsed": false,
    "pycharm": {
     "name": "#%%\n"
    }
   }
  },
  {
   "cell_type": "code",
   "execution_count": 1,
   "outputs": [
    {
     "data": {
      "text/plain": "'import statsmodels.api as sm\\nx = sm.add_constant(x)\\nmodel = sm.OLS(y,x)\\nresults = model.fit()\\nresults.summary()'"
     },
     "execution_count": 1,
     "metadata": {},
     "output_type": "execute_result"
    }
   ],
   "source": [
    "'''import statsmodels.api as sm\n",
    "x = sm.add_constant(x)\n",
    "model = sm.OLS(y,x)\n",
    "results = model.fit()\n",
    "results.summary()'''"
   ],
   "metadata": {
    "collapsed": false,
    "pycharm": {
     "name": "#%%\n"
    }
   }
  },
  {
   "cell_type": "code",
   "execution_count": 117,
   "outputs": [
    {
     "data": {
      "text/plain": "array([100001., 100003., 100004., ..., 608105., 608107., 608350.])"
     },
     "execution_count": 117,
     "metadata": {},
     "output_type": "execute_result"
    }
   ],
   "source": [
    "returns['wficn'].unique()"
   ],
   "metadata": {
    "collapsed": false,
    "pycharm": {
     "name": "#%%\n"
    }
   }
  },
  {
   "cell_type": "code",
   "execution_count": 29,
   "outputs": [
    {
     "data": {
      "text/plain": "             caldt  crsp_fundno    mtna      mret   mnav\n10      1997-01-31          1.0   0.100       NaN    NaN\n11      1997-02-28          1.0   3.926       NaN  14.98\n12      1997-03-31          1.0  12.081 -0.011789  14.72\n13      1997-04-30          1.0  20.540  0.008417  14.76\n14      1997-05-30          1.0  26.157  0.013523  14.87\n...            ...          ...     ...       ...    ...\n362520  2018-11-30      98815.0     NaN  0.006696   9.02\n362521  2018-12-31      98815.0     NaN  0.005508   8.86\n362522  2019-01-31      98815.0     NaN  0.028217   9.11\n369555  2018-12-31      99689.0     NaN       NaN   9.45\n369556  2019-01-31      99689.0     NaN  0.087831  10.28\n\n[7472663 rows x 5 columns]",
      "text/html": "<div>\n<style scoped>\n    .dataframe tbody tr th:only-of-type {\n        vertical-align: middle;\n    }\n\n    .dataframe tbody tr th {\n        vertical-align: top;\n    }\n\n    .dataframe thead th {\n        text-align: right;\n    }\n</style>\n<table border=\"1\" class=\"dataframe\">\n  <thead>\n    <tr style=\"text-align: right;\">\n      <th></th>\n      <th>caldt</th>\n      <th>crsp_fundno</th>\n      <th>mtna</th>\n      <th>mret</th>\n      <th>mnav</th>\n    </tr>\n  </thead>\n  <tbody>\n    <tr>\n      <th>10</th>\n      <td>1997-01-31</td>\n      <td>1.0</td>\n      <td>0.100</td>\n      <td>NaN</td>\n      <td>NaN</td>\n    </tr>\n    <tr>\n      <th>11</th>\n      <td>1997-02-28</td>\n      <td>1.0</td>\n      <td>3.926</td>\n      <td>NaN</td>\n      <td>14.98</td>\n    </tr>\n    <tr>\n      <th>12</th>\n      <td>1997-03-31</td>\n      <td>1.0</td>\n      <td>12.081</td>\n      <td>-0.011789</td>\n      <td>14.72</td>\n    </tr>\n    <tr>\n      <th>13</th>\n      <td>1997-04-30</td>\n      <td>1.0</td>\n      <td>20.540</td>\n      <td>0.008417</td>\n      <td>14.76</td>\n    </tr>\n    <tr>\n      <th>14</th>\n      <td>1997-05-30</td>\n      <td>1.0</td>\n      <td>26.157</td>\n      <td>0.013523</td>\n      <td>14.87</td>\n    </tr>\n    <tr>\n      <th>...</th>\n      <td>...</td>\n      <td>...</td>\n      <td>...</td>\n      <td>...</td>\n      <td>...</td>\n    </tr>\n    <tr>\n      <th>362520</th>\n      <td>2018-11-30</td>\n      <td>98815.0</td>\n      <td>NaN</td>\n      <td>0.006696</td>\n      <td>9.02</td>\n    </tr>\n    <tr>\n      <th>362521</th>\n      <td>2018-12-31</td>\n      <td>98815.0</td>\n      <td>NaN</td>\n      <td>0.005508</td>\n      <td>8.86</td>\n    </tr>\n    <tr>\n      <th>362522</th>\n      <td>2019-01-31</td>\n      <td>98815.0</td>\n      <td>NaN</td>\n      <td>0.028217</td>\n      <td>9.11</td>\n    </tr>\n    <tr>\n      <th>369555</th>\n      <td>2018-12-31</td>\n      <td>99689.0</td>\n      <td>NaN</td>\n      <td>NaN</td>\n      <td>9.45</td>\n    </tr>\n    <tr>\n      <th>369556</th>\n      <td>2019-01-31</td>\n      <td>99689.0</td>\n      <td>NaN</td>\n      <td>0.087831</td>\n      <td>10.28</td>\n    </tr>\n  </tbody>\n</table>\n<p>7472663 rows × 5 columns</p>\n</div>"
     },
     "execution_count": 29,
     "metadata": {},
     "output_type": "execute_result"
    }
   ],
   "source": [
    "tna_ret_nav"
   ],
   "metadata": {
    "collapsed": false,
    "pycharm": {
     "name": "#%%\n"
    }
   }
  },
  {
   "cell_type": "code",
   "execution_count": 1,
   "outputs": [],
   "source": [],
   "metadata": {
    "collapsed": false,
    "pycharm": {
     "name": "#%%\n"
    }
   }
  },
  {
   "cell_type": "code",
   "execution_count": 102,
   "outputs": [
    {
     "name": "stderr",
     "output_type": "stream",
     "text": [
      "C:\\Users\\Justin\\AppData\\Local\\Temp/ipykernel_42440/1321094398.py:71: RuntimeWarning: invalid value encountered in double_scalars\n",
      "  lambda x: np.nansum(x['per_com']) / np.count_nonzero(x['per_com']))\n",
      "C:\\Users\\Justin\\AppData\\Local\\Temp/ipykernel_42440/1321094398.py:92: SettingWithCopyWarning: \n",
      "A value is trying to be set on a copy of a slice from a DataFrame.\n",
      "Try using .loc[row_indexer,col_indexer] = value instead\n",
      "\n",
      "See the caveats in the documentation: https://pandas.pydata.org/pandas-docs/stable/user_guide/indexing.html#returning-a-view-versus-a-copy\n",
      "  funds2['short_way'] = 1\n",
      "C:\\Users\\Justin\\AppData\\Local\\Temp/ipykernel_42440/1321094398.py:107: SettingWithCopyWarning: \n",
      "A value is trying to be set on a copy of a slice from a DataFrame.\n",
      "Try using .loc[row_indexer,col_indexer] = value instead\n",
      "\n",
      "See the caveats in the documentation: https://pandas.pydata.org/pandas-docs/stable/user_guide/indexing.html#returning-a-view-versus-a-copy\n",
      "  funds7['namex'] = funds7['fund_name'].str.lower()\n"
     ]
    }
   ],
   "source": [],
   "metadata": {
    "collapsed": false,
    "pycharm": {
     "name": "#%%\n"
    }
   }
  },
  {
   "cell_type": "code",
   "execution_count": 41,
   "outputs": [],
   "source": [
    "with open('../../data/data/mflink.feather', 'rb') as f:\n",
    "    mflink=feather.read_feather(f)"
   ],
   "metadata": {
    "collapsed": false,
    "pycharm": {
     "name": "#%%\n"
    }
   }
  },
  {
   "cell_type": "code",
   "execution_count": 103,
   "outputs": [],
   "source": [
    "equity_funds = pd.merge(funds8, mflink, on='crsp_fundno')"
   ],
   "metadata": {
    "collapsed": false,
    "pycharm": {
     "name": "#%%\n"
    }
   }
  },
  {
   "cell_type": "code",
   "execution_count": 104,
   "outputs": [],
   "source": [
    "equity_funds = pd.merge(funds8, mflink, on='crsp_fundno')\n",
    "equity_funds = equity_funds[equity_funds['flipper'] == 0]"
   ],
   "metadata": {
    "collapsed": false,
    "pycharm": {
     "name": "#%%\n"
    }
   }
  },
  {
   "cell_type": "code",
   "execution_count": 51,
   "outputs": [
    {
     "data": {
      "text/plain": "0        0\n1        1\n2        0\n3        0\n4        0\n        ..\n13870    0\n13871    0\n13873    0\n13874    0\n13875    0\nName: flipper, Length: 11451, dtype: int64"
     },
     "execution_count": 51,
     "metadata": {},
     "output_type": "execute_result"
    }
   ],
   "source": [
    "funds8['flipper']"
   ],
   "metadata": {
    "collapsed": false,
    "pycharm": {
     "name": "#%%\n"
    }
   }
  },
  {
   "cell_type": "code",
   "execution_count": 59,
   "outputs": [
    {
     "data": {
      "text/plain": "array([100154., 100088., 100041., ..., 608386., 606588., 608273.])"
     },
     "execution_count": 59,
     "metadata": {},
     "output_type": "execute_result"
    }
   ],
   "source": [
    "equity_funds['wficn'].unique()"
   ],
   "metadata": {
    "collapsed": false,
    "pycharm": {
     "name": "#%%\n"
    }
   }
  },
  {
   "cell_type": "code",
   "execution_count": 90,
   "outputs": [],
   "source": [
    "eq=pd.read_csv('../eq_fund.csv')"
   ],
   "metadata": {
    "collapsed": false,
    "pycharm": {
     "name": "#%%\n"
    }
   }
  },
  {
   "cell_type": "code",
   "execution_count": 91,
   "outputs": [],
   "source": [
    "eq['crsp_fundno']=(eq['crsp_fundno'].astype(str)+eq['Unnamed: 2'].astype(str)).astype(int)"
   ],
   "metadata": {
    "collapsed": false,
    "pycharm": {
     "name": "#%%\n"
    }
   }
  },
  {
   "cell_type": "code",
   "execution_count": 92,
   "outputs": [
    {
     "data": {
      "text/plain": "        wficn  crsp_fundno  Unnamed: 2\n0      301534            2           2\n1      100154            7           7\n2      100088           23           3\n3      100154           25           5\n4      105402           33           3\n...       ...          ...         ...\n14994  606590        99554           4\n14995  608273        99648           8\n14996  607049        99710           0\n14997  607049        99711           1\n14998  607226        99712           2\n\n[14999 rows x 3 columns]",
      "text/html": "<div>\n<style scoped>\n    .dataframe tbody tr th:only-of-type {\n        vertical-align: middle;\n    }\n\n    .dataframe tbody tr th {\n        vertical-align: top;\n    }\n\n    .dataframe thead th {\n        text-align: right;\n    }\n</style>\n<table border=\"1\" class=\"dataframe\">\n  <thead>\n    <tr style=\"text-align: right;\">\n      <th></th>\n      <th>wficn</th>\n      <th>crsp_fundno</th>\n      <th>Unnamed: 2</th>\n    </tr>\n  </thead>\n  <tbody>\n    <tr>\n      <th>0</th>\n      <td>301534</td>\n      <td>2</td>\n      <td>2</td>\n    </tr>\n    <tr>\n      <th>1</th>\n      <td>100154</td>\n      <td>7</td>\n      <td>7</td>\n    </tr>\n    <tr>\n      <th>2</th>\n      <td>100088</td>\n      <td>23</td>\n      <td>3</td>\n    </tr>\n    <tr>\n      <th>3</th>\n      <td>100154</td>\n      <td>25</td>\n      <td>5</td>\n    </tr>\n    <tr>\n      <th>4</th>\n      <td>105402</td>\n      <td>33</td>\n      <td>3</td>\n    </tr>\n    <tr>\n      <th>...</th>\n      <td>...</td>\n      <td>...</td>\n      <td>...</td>\n    </tr>\n    <tr>\n      <th>14994</th>\n      <td>606590</td>\n      <td>99554</td>\n      <td>4</td>\n    </tr>\n    <tr>\n      <th>14995</th>\n      <td>608273</td>\n      <td>99648</td>\n      <td>8</td>\n    </tr>\n    <tr>\n      <th>14996</th>\n      <td>607049</td>\n      <td>99710</td>\n      <td>0</td>\n    </tr>\n    <tr>\n      <th>14997</th>\n      <td>607049</td>\n      <td>99711</td>\n      <td>1</td>\n    </tr>\n    <tr>\n      <th>14998</th>\n      <td>607226</td>\n      <td>99712</td>\n      <td>2</td>\n    </tr>\n  </tbody>\n</table>\n<p>14999 rows × 3 columns</p>\n</div>"
     },
     "execution_count": 92,
     "metadata": {},
     "output_type": "execute_result"
    }
   ],
   "source": [
    "eq"
   ],
   "metadata": {
    "collapsed": false,
    "pycharm": {
     "name": "#%%\n"
    }
   }
  },
  {
   "cell_type": "code",
   "execution_count": 88,
   "outputs": [
    {
     "data": {
      "text/plain": "      crsp_fundno  long_way crsp_obj_cd       begdt  flipper    cusip8  \\\n0             7.0         1        EDYG  1994-12-30        0  02317K67   \n1            23.0         1        EDYB  1994-12-30        0      None   \n2            25.0         1        EDYG  1993-12-31        0  02317K65   \n3            51.0         1        EDYB  1993-12-31        0      None   \n6            93.0         1        EDYG  1961-12-29        0      None   \n...           ...       ...         ...         ...      ...       ...   \n9923      99554.0         1        EDYG  2022-02-09        0  01878H72   \n9924      99648.0         1        EDYG  2022-03-02        0  90386K88   \n9925      99710.0         1        EDCM  2022-03-14        0  14064D54   \n9926      99711.0         1        EDCM  2022-03-14        0  14064D53   \n9927      99712.0         1        EDCM  2022-03-14        0  14064D52   \n\n           chgdt    chgenddt  crsp_portno  crsp_cl_grp  ... vau_fund et_flag  \\\n0     1994-12-30  1995-05-31          NaN          NaN  ...        N    None   \n1     1994-01-01  1994-10-31          NaN          NaN  ...        N    None   \n2     1995-01-01  1995-05-31          NaN          NaN  ...        N    None   \n3     1995-12-31  1996-08-30          NaN          NaN  ...        N    None   \n6     1993-01-02  1993-01-29          NaN          NaN  ...        N    None   \n...          ...         ...          ...          ...  ...      ...     ...   \n9923  2022-02-15  2022-06-30    1050055.0    2055948.0  ...        N    None   \n9924  2022-04-01  2022-06-30    1051887.0    2075545.0  ...        N    None   \n9925  2022-04-01  2022-06-30    1050299.0    2057565.0  ...        N    None   \n9926  2022-04-01  2022-06-30    1050299.0    2057565.0  ...        N    None   \n9927  2022-04-01  2022-06-30    1050940.0    2064119.0  ...        N    None   \n\n     delist_cd header first_offer_dt      end_dt dead_flag merge_fundno  \\\n0            M    1.0     1992-01-01  1995-05-31         Y      21296.0   \n1            L    1.0     1994-01-01  1994-10-31         Y          NaN   \n2            M    1.0     1992-01-01  1995-05-31         Y      21286.0   \n3            L    1.0     1993-01-01  1996-08-30         Y          NaN   \n6            M    1.0     1958-01-01  1993-01-29         Y      16669.0   \n...        ...    ...            ...         ...       ...          ...   \n9923      None    1.0     2022-01-31  2022-06-30         N          NaN   \n9924      None    1.0     2022-02-28  2022-06-30         N          NaN   \n9925      None    1.0     2022-03-10  2022-06-30         N          NaN   \n9926      None    1.0     2022-03-10  2022-06-30         N          NaN   \n9927      None    1.0     2022-03-10  2022-06-30         N          NaN   \n\n                                                  namex     wficn  \n0          ambassador funds:established co gr/fiduciary  100154.0  \n1          alexander hamilton equity growth & income fd  100088.0  \n2           ambassador funds:established co gr/retail a  100154.0  \n3             advisors inner circle:a+p large cap value  100041.0  \n6                        american investors growth fund  100222.0  \n...                                                 ...       ...  \n9923  ab cap fund, inc: ab sustainable us thematic p...  606590.0  \n9924  ultimus managers trust: evolutionary tree inno...  608273.0  \n9925  capitol series trust: fuller & thaler behavior...  607049.0  \n9926  capitol series trust: fuller & thaler behavior...  607049.0  \n9927  capitol series trust: fuller & thaler behavior...  607226.0  \n\n[9414 rows x 33 columns]",
      "text/html": "<div>\n<style scoped>\n    .dataframe tbody tr th:only-of-type {\n        vertical-align: middle;\n    }\n\n    .dataframe tbody tr th {\n        vertical-align: top;\n    }\n\n    .dataframe thead th {\n        text-align: right;\n    }\n</style>\n<table border=\"1\" class=\"dataframe\">\n  <thead>\n    <tr style=\"text-align: right;\">\n      <th></th>\n      <th>crsp_fundno</th>\n      <th>long_way</th>\n      <th>crsp_obj_cd</th>\n      <th>begdt</th>\n      <th>flipper</th>\n      <th>cusip8</th>\n      <th>chgdt</th>\n      <th>chgenddt</th>\n      <th>crsp_portno</th>\n      <th>crsp_cl_grp</th>\n      <th>...</th>\n      <th>vau_fund</th>\n      <th>et_flag</th>\n      <th>delist_cd</th>\n      <th>header</th>\n      <th>first_offer_dt</th>\n      <th>end_dt</th>\n      <th>dead_flag</th>\n      <th>merge_fundno</th>\n      <th>namex</th>\n      <th>wficn</th>\n    </tr>\n  </thead>\n  <tbody>\n    <tr>\n      <th>0</th>\n      <td>7.0</td>\n      <td>1</td>\n      <td>EDYG</td>\n      <td>1994-12-30</td>\n      <td>0</td>\n      <td>02317K67</td>\n      <td>1994-12-30</td>\n      <td>1995-05-31</td>\n      <td>NaN</td>\n      <td>NaN</td>\n      <td>...</td>\n      <td>N</td>\n      <td>None</td>\n      <td>M</td>\n      <td>1.0</td>\n      <td>1992-01-01</td>\n      <td>1995-05-31</td>\n      <td>Y</td>\n      <td>21296.0</td>\n      <td>ambassador funds:established co gr/fiduciary</td>\n      <td>100154.0</td>\n    </tr>\n    <tr>\n      <th>1</th>\n      <td>23.0</td>\n      <td>1</td>\n      <td>EDYB</td>\n      <td>1994-12-30</td>\n      <td>0</td>\n      <td>None</td>\n      <td>1994-01-01</td>\n      <td>1994-10-31</td>\n      <td>NaN</td>\n      <td>NaN</td>\n      <td>...</td>\n      <td>N</td>\n      <td>None</td>\n      <td>L</td>\n      <td>1.0</td>\n      <td>1994-01-01</td>\n      <td>1994-10-31</td>\n      <td>Y</td>\n      <td>NaN</td>\n      <td>alexander hamilton equity growth &amp; income fd</td>\n      <td>100088.0</td>\n    </tr>\n    <tr>\n      <th>2</th>\n      <td>25.0</td>\n      <td>1</td>\n      <td>EDYG</td>\n      <td>1993-12-31</td>\n      <td>0</td>\n      <td>02317K65</td>\n      <td>1995-01-01</td>\n      <td>1995-05-31</td>\n      <td>NaN</td>\n      <td>NaN</td>\n      <td>...</td>\n      <td>N</td>\n      <td>None</td>\n      <td>M</td>\n      <td>1.0</td>\n      <td>1992-01-01</td>\n      <td>1995-05-31</td>\n      <td>Y</td>\n      <td>21286.0</td>\n      <td>ambassador funds:established co gr/retail a</td>\n      <td>100154.0</td>\n    </tr>\n    <tr>\n      <th>3</th>\n      <td>51.0</td>\n      <td>1</td>\n      <td>EDYB</td>\n      <td>1993-12-31</td>\n      <td>0</td>\n      <td>None</td>\n      <td>1995-12-31</td>\n      <td>1996-08-30</td>\n      <td>NaN</td>\n      <td>NaN</td>\n      <td>...</td>\n      <td>N</td>\n      <td>None</td>\n      <td>L</td>\n      <td>1.0</td>\n      <td>1993-01-01</td>\n      <td>1996-08-30</td>\n      <td>Y</td>\n      <td>NaN</td>\n      <td>advisors inner circle:a+p large cap value</td>\n      <td>100041.0</td>\n    </tr>\n    <tr>\n      <th>6</th>\n      <td>93.0</td>\n      <td>1</td>\n      <td>EDYG</td>\n      <td>1961-12-29</td>\n      <td>0</td>\n      <td>None</td>\n      <td>1993-01-02</td>\n      <td>1993-01-29</td>\n      <td>NaN</td>\n      <td>NaN</td>\n      <td>...</td>\n      <td>N</td>\n      <td>None</td>\n      <td>M</td>\n      <td>1.0</td>\n      <td>1958-01-01</td>\n      <td>1993-01-29</td>\n      <td>Y</td>\n      <td>16669.0</td>\n      <td>american investors growth fund</td>\n      <td>100222.0</td>\n    </tr>\n    <tr>\n      <th>...</th>\n      <td>...</td>\n      <td>...</td>\n      <td>...</td>\n      <td>...</td>\n      <td>...</td>\n      <td>...</td>\n      <td>...</td>\n      <td>...</td>\n      <td>...</td>\n      <td>...</td>\n      <td>...</td>\n      <td>...</td>\n      <td>...</td>\n      <td>...</td>\n      <td>...</td>\n      <td>...</td>\n      <td>...</td>\n      <td>...</td>\n      <td>...</td>\n      <td>...</td>\n      <td>...</td>\n    </tr>\n    <tr>\n      <th>9923</th>\n      <td>99554.0</td>\n      <td>1</td>\n      <td>EDYG</td>\n      <td>2022-02-09</td>\n      <td>0</td>\n      <td>01878H72</td>\n      <td>2022-02-15</td>\n      <td>2022-06-30</td>\n      <td>1050055.0</td>\n      <td>2055948.0</td>\n      <td>...</td>\n      <td>N</td>\n      <td>None</td>\n      <td>None</td>\n      <td>1.0</td>\n      <td>2022-01-31</td>\n      <td>2022-06-30</td>\n      <td>N</td>\n      <td>NaN</td>\n      <td>ab cap fund, inc: ab sustainable us thematic p...</td>\n      <td>606590.0</td>\n    </tr>\n    <tr>\n      <th>9924</th>\n      <td>99648.0</td>\n      <td>1</td>\n      <td>EDYG</td>\n      <td>2022-03-02</td>\n      <td>0</td>\n      <td>90386K88</td>\n      <td>2022-04-01</td>\n      <td>2022-06-30</td>\n      <td>1051887.0</td>\n      <td>2075545.0</td>\n      <td>...</td>\n      <td>N</td>\n      <td>None</td>\n      <td>None</td>\n      <td>1.0</td>\n      <td>2022-02-28</td>\n      <td>2022-06-30</td>\n      <td>N</td>\n      <td>NaN</td>\n      <td>ultimus managers trust: evolutionary tree inno...</td>\n      <td>608273.0</td>\n    </tr>\n    <tr>\n      <th>9925</th>\n      <td>99710.0</td>\n      <td>1</td>\n      <td>EDCM</td>\n      <td>2022-03-14</td>\n      <td>0</td>\n      <td>14064D54</td>\n      <td>2022-04-01</td>\n      <td>2022-06-30</td>\n      <td>1050299.0</td>\n      <td>2057565.0</td>\n      <td>...</td>\n      <td>N</td>\n      <td>None</td>\n      <td>None</td>\n      <td>1.0</td>\n      <td>2022-03-10</td>\n      <td>2022-06-30</td>\n      <td>N</td>\n      <td>NaN</td>\n      <td>capitol series trust: fuller &amp; thaler behavior...</td>\n      <td>607049.0</td>\n    </tr>\n    <tr>\n      <th>9926</th>\n      <td>99711.0</td>\n      <td>1</td>\n      <td>EDCM</td>\n      <td>2022-03-14</td>\n      <td>0</td>\n      <td>14064D53</td>\n      <td>2022-04-01</td>\n      <td>2022-06-30</td>\n      <td>1050299.0</td>\n      <td>2057565.0</td>\n      <td>...</td>\n      <td>N</td>\n      <td>None</td>\n      <td>None</td>\n      <td>1.0</td>\n      <td>2022-03-10</td>\n      <td>2022-06-30</td>\n      <td>N</td>\n      <td>NaN</td>\n      <td>capitol series trust: fuller &amp; thaler behavior...</td>\n      <td>607049.0</td>\n    </tr>\n    <tr>\n      <th>9927</th>\n      <td>99712.0</td>\n      <td>1</td>\n      <td>EDCM</td>\n      <td>2022-03-14</td>\n      <td>0</td>\n      <td>14064D52</td>\n      <td>2022-04-01</td>\n      <td>2022-06-30</td>\n      <td>1050940.0</td>\n      <td>2064119.0</td>\n      <td>...</td>\n      <td>N</td>\n      <td>None</td>\n      <td>None</td>\n      <td>1.0</td>\n      <td>2022-03-10</td>\n      <td>2022-06-30</td>\n      <td>N</td>\n      <td>NaN</td>\n      <td>capitol series trust: fuller &amp; thaler behavior...</td>\n      <td>607226.0</td>\n    </tr>\n  </tbody>\n</table>\n<p>9414 rows × 33 columns</p>\n</div>"
     },
     "execution_count": 88,
     "metadata": {},
     "output_type": "execute_result"
    }
   ],
   "source": [
    "equity_funds"
   ],
   "metadata": {
    "collapsed": false,
    "pycharm": {
     "name": "#%%\n"
    }
   }
  },
  {
   "cell_type": "code",
   "execution_count": 93,
   "outputs": [],
   "source": [
    "equity_funds = pd.merge(eq, mflink, on='crsp_fundno')"
   ],
   "metadata": {
    "collapsed": false,
    "pycharm": {
     "name": "#%%\n"
    }
   }
  },
  {
   "cell_type": "code",
   "execution_count": 95,
   "outputs": [],
   "source": [
    "equity_funds=eq"
   ],
   "metadata": {
    "collapsed": false,
    "pycharm": {
     "name": "#%%\n"
    }
   }
  },
  {
   "cell_type": "code",
   "execution_count": 96,
   "outputs": [
    {
     "data": {
      "text/plain": "        wficn  crsp_fundno  Unnamed: 2\n0      301534            2           2\n1      100154            7           7\n2      100088           23           3\n3      100154           25           5\n4      105402           33           3\n...       ...          ...         ...\n14994  606590        99554           4\n14995  608273        99648           8\n14996  607049        99710           0\n14997  607049        99711           1\n14998  607226        99712           2\n\n[14999 rows x 3 columns]",
      "text/html": "<div>\n<style scoped>\n    .dataframe tbody tr th:only-of-type {\n        vertical-align: middle;\n    }\n\n    .dataframe tbody tr th {\n        vertical-align: top;\n    }\n\n    .dataframe thead th {\n        text-align: right;\n    }\n</style>\n<table border=\"1\" class=\"dataframe\">\n  <thead>\n    <tr style=\"text-align: right;\">\n      <th></th>\n      <th>wficn</th>\n      <th>crsp_fundno</th>\n      <th>Unnamed: 2</th>\n    </tr>\n  </thead>\n  <tbody>\n    <tr>\n      <th>0</th>\n      <td>301534</td>\n      <td>2</td>\n      <td>2</td>\n    </tr>\n    <tr>\n      <th>1</th>\n      <td>100154</td>\n      <td>7</td>\n      <td>7</td>\n    </tr>\n    <tr>\n      <th>2</th>\n      <td>100088</td>\n      <td>23</td>\n      <td>3</td>\n    </tr>\n    <tr>\n      <th>3</th>\n      <td>100154</td>\n      <td>25</td>\n      <td>5</td>\n    </tr>\n    <tr>\n      <th>4</th>\n      <td>105402</td>\n      <td>33</td>\n      <td>3</td>\n    </tr>\n    <tr>\n      <th>...</th>\n      <td>...</td>\n      <td>...</td>\n      <td>...</td>\n    </tr>\n    <tr>\n      <th>14994</th>\n      <td>606590</td>\n      <td>99554</td>\n      <td>4</td>\n    </tr>\n    <tr>\n      <th>14995</th>\n      <td>608273</td>\n      <td>99648</td>\n      <td>8</td>\n    </tr>\n    <tr>\n      <th>14996</th>\n      <td>607049</td>\n      <td>99710</td>\n      <td>0</td>\n    </tr>\n    <tr>\n      <th>14997</th>\n      <td>607049</td>\n      <td>99711</td>\n      <td>1</td>\n    </tr>\n    <tr>\n      <th>14998</th>\n      <td>607226</td>\n      <td>99712</td>\n      <td>2</td>\n    </tr>\n  </tbody>\n</table>\n<p>14999 rows × 3 columns</p>\n</div>"
     },
     "execution_count": 96,
     "metadata": {},
     "output_type": "execute_result"
    }
   ],
   "source": [
    "eq"
   ],
   "metadata": {
    "collapsed": false,
    "pycharm": {
     "name": "#%%\n"
    }
   }
  },
  {
   "cell_type": "code",
   "execution_count": 3,
   "outputs": [
    {
     "name": "stderr",
     "output_type": "stream",
     "text": [
      "C:\\Users\\Justin\\AppData\\Local\\Temp/ipykernel_2892/1109061608.py:74: RuntimeWarning: invalid value encountered in double_scalars\n",
      "  lambda x: np.nansum(x['per_com']) / np.count_nonzero(x['per_com']))\n",
      "C:\\Users\\Justin\\AppData\\Local\\Temp/ipykernel_2892/1109061608.py:95: SettingWithCopyWarning: \n",
      "A value is trying to be set on a copy of a slice from a DataFrame.\n",
      "Try using .loc[row_indexer,col_indexer] = value instead\n",
      "\n",
      "See the caveats in the documentation: https://pandas.pydata.org/pandas-docs/stable/user_guide/indexing.html#returning-a-view-versus-a-copy\n",
      "  funds2['short_way'] = 1\n"
     ]
    }
   ],
   "source": [],
   "metadata": {
    "collapsed": false,
    "pycharm": {
     "name": "#%%\n"
    }
   }
  },
  {
   "cell_type": "code",
   "execution_count": 27,
   "outputs": [],
   "source": [],
   "metadata": {
    "collapsed": false,
    "pycharm": {
     "name": "#%%\n"
    }
   }
  },
  {
   "cell_type": "code",
   "execution_count": 27,
   "outputs": [],
   "source": [],
   "metadata": {
    "collapsed": false,
    "pycharm": {
     "name": "#%%\n"
    }
   }
  },
  {
   "cell_type": "code",
   "execution_count": 33,
   "outputs": [
    {
     "data": {
      "text/plain": "        crsp_fundno  short_way\n15              7.0          1\n29             13.0          1\n46             23.0          1\n48             25.0          1\n86             43.0          1\n...             ...        ...\n185000     100032.0          1\n185001     100033.0          1\n185002     100034.0          1\n185003     100035.0          1\n185004     100036.0          1\n\n[15517 rows x 2 columns]",
      "text/html": "<div>\n<style scoped>\n    .dataframe tbody tr th:only-of-type {\n        vertical-align: middle;\n    }\n\n    .dataframe tbody tr th {\n        vertical-align: top;\n    }\n\n    .dataframe thead th {\n        text-align: right;\n    }\n</style>\n<table border=\"1\" class=\"dataframe\">\n  <thead>\n    <tr style=\"text-align: right;\">\n      <th></th>\n      <th>crsp_fundno</th>\n      <th>short_way</th>\n    </tr>\n  </thead>\n  <tbody>\n    <tr>\n      <th>15</th>\n      <td>7.0</td>\n      <td>1</td>\n    </tr>\n    <tr>\n      <th>29</th>\n      <td>13.0</td>\n      <td>1</td>\n    </tr>\n    <tr>\n      <th>46</th>\n      <td>23.0</td>\n      <td>1</td>\n    </tr>\n    <tr>\n      <th>48</th>\n      <td>25.0</td>\n      <td>1</td>\n    </tr>\n    <tr>\n      <th>86</th>\n      <td>43.0</td>\n      <td>1</td>\n    </tr>\n    <tr>\n      <th>...</th>\n      <td>...</td>\n      <td>...</td>\n    </tr>\n    <tr>\n      <th>185000</th>\n      <td>100032.0</td>\n      <td>1</td>\n    </tr>\n    <tr>\n      <th>185001</th>\n      <td>100033.0</td>\n      <td>1</td>\n    </tr>\n    <tr>\n      <th>185002</th>\n      <td>100034.0</td>\n      <td>1</td>\n    </tr>\n    <tr>\n      <th>185003</th>\n      <td>100035.0</td>\n      <td>1</td>\n    </tr>\n    <tr>\n      <th>185004</th>\n      <td>100036.0</td>\n      <td>1</td>\n    </tr>\n  </tbody>\n</table>\n<p>15517 rows × 2 columns</p>\n</div>"
     },
     "execution_count": 33,
     "metadata": {},
     "output_type": "execute_result"
    }
   ],
   "source": [
    "funds2"
   ],
   "metadata": {
    "collapsed": false,
    "pycharm": {
     "name": "#%%\n"
    }
   }
  },
  {
   "cell_type": "code",
   "execution_count": 27,
   "outputs": [
    {
     "data": {
      "text/plain": "0         1960-01-29\n1         1960-02-29\n2         1960-04-29\n3         1960-06-30\n4         1960-07-29\n             ...    \n370470    2022-06-30\n370471    2022-06-30\n370472    2022-06-30\n370473    2022-06-30\n370474    2022-06-30\nName: caldt, Length: 8870475, dtype: object"
     },
     "execution_count": 27,
     "metadata": {},
     "output_type": "execute_result"
    }
   ],
   "source": [
    "tna_ret_nav[tna_ret_nav['caldt']]"
   ],
   "metadata": {
    "collapsed": false,
    "pycharm": {
     "name": "#%%\n"
    }
   }
  },
  {
   "cell_type": "code",
   "execution_count": 15,
   "outputs": [],
   "source": [],
   "metadata": {
    "collapsed": false,
    "pycharm": {
     "name": "#%%\n"
    }
   }
  },
  {
   "cell_type": "code",
   "execution_count": 17,
   "outputs": [],
   "source": [],
   "metadata": {
    "collapsed": false,
    "pycharm": {
     "name": "#%%\n"
    }
   }
  },
  {
   "cell_type": "code",
   "execution_count": 21,
   "outputs": [
    {
     "data": {
      "text/plain": "           wficn        date          0\n0       100004.0  2000-10-31  21.952538\n1       100004.0  2000-11-30  21.952538\n2       100004.0  2000-12-29  21.952538\n3       100004.0  2001-01-31  21.952538\n4       100004.0  2001-02-28  21.952538\n...          ...         ...        ...\n419227  608398.0  2021-06-30   1.426450\n419228  608398.0  2021-07-30   1.426450\n419229  608398.0  2021-08-31   1.426450\n419230  608398.0  2021-09-30   1.426450\n419231  608398.0  2021-10-29   1.426450\n\n[419232 rows x 3 columns]",
      "text/html": "<div>\n<style scoped>\n    .dataframe tbody tr th:only-of-type {\n        vertical-align: middle;\n    }\n\n    .dataframe tbody tr th {\n        vertical-align: top;\n    }\n\n    .dataframe thead th {\n        text-align: right;\n    }\n</style>\n<table border=\"1\" class=\"dataframe\">\n  <thead>\n    <tr style=\"text-align: right;\">\n      <th></th>\n      <th>wficn</th>\n      <th>date</th>\n      <th>0</th>\n    </tr>\n  </thead>\n  <tbody>\n    <tr>\n      <th>0</th>\n      <td>100004.0</td>\n      <td>2000-10-31</td>\n      <td>21.952538</td>\n    </tr>\n    <tr>\n      <th>1</th>\n      <td>100004.0</td>\n      <td>2000-11-30</td>\n      <td>21.952538</td>\n    </tr>\n    <tr>\n      <th>2</th>\n      <td>100004.0</td>\n      <td>2000-12-29</td>\n      <td>21.952538</td>\n    </tr>\n    <tr>\n      <th>3</th>\n      <td>100004.0</td>\n      <td>2001-01-31</td>\n      <td>21.952538</td>\n    </tr>\n    <tr>\n      <th>4</th>\n      <td>100004.0</td>\n      <td>2001-02-28</td>\n      <td>21.952538</td>\n    </tr>\n    <tr>\n      <th>...</th>\n      <td>...</td>\n      <td>...</td>\n      <td>...</td>\n    </tr>\n    <tr>\n      <th>419227</th>\n      <td>608398.0</td>\n      <td>2021-06-30</td>\n      <td>1.426450</td>\n    </tr>\n    <tr>\n      <th>419228</th>\n      <td>608398.0</td>\n      <td>2021-07-30</td>\n      <td>1.426450</td>\n    </tr>\n    <tr>\n      <th>419229</th>\n      <td>608398.0</td>\n      <td>2021-08-31</td>\n      <td>1.426450</td>\n    </tr>\n    <tr>\n      <th>419230</th>\n      <td>608398.0</td>\n      <td>2021-09-30</td>\n      <td>1.426450</td>\n    </tr>\n    <tr>\n      <th>419231</th>\n      <td>608398.0</td>\n      <td>2021-10-29</td>\n      <td>1.426450</td>\n    </tr>\n  </tbody>\n</table>\n<p>419232 rows × 3 columns</p>\n</div>"
     },
     "execution_count": 21,
     "metadata": {},
     "output_type": "execute_result"
    }
   ],
   "source": [
    "age"
   ],
   "metadata": {
    "collapsed": false,
    "pycharm": {
     "name": "#%%\n"
    }
   }
  },
  {
   "cell_type": "code",
   "execution_count": null,
   "outputs": [],
   "source": [],
   "metadata": {
    "collapsed": false,
    "pycharm": {
     "name": "#%%\n"
    }
   }
  },
  {
   "cell_type": "code",
   "execution_count": 126,
   "outputs": [
    {
     "data": {
      "text/plain": "           wficn        date      mret  mtna  weight      rret  turnover  \\\n1       100004.0  2000-11-30 -0.109759  26.8     8.1 -0.109026      0.35   \n2       100004.0  2000-12-29 -0.001117  31.9    26.8 -0.000384      0.35   \n3       100004.0  2001-01-31  0.023531  40.0    31.9  0.024265      0.35   \n4       100004.0  2001-02-28 -0.118869  36.2    40.0 -0.118136      0.35   \n5       100004.0  2001-03-30 -0.088326  46.2    36.2 -0.087593      0.35   \n...          ...         ...       ...   ...     ...       ...       ...   \n419086  608350.0  2018-09-28 -0.010654  34.8    31.1 -0.009821      0.66   \n419087  608350.0  2018-10-31 -0.108462  31.0    34.8 -0.107628      0.66   \n419088  608350.0  2018-11-30  0.037101  35.5    31.0  0.037934      0.66   \n419089  608350.0  2018-12-31 -0.081881  41.2    35.5 -0.081048      0.66   \n419090  608350.0  2019-01-31  0.154943  55.3    41.2  0.155776      0.39   \n\n        exp_ratio        age   cum_ret      flow       vol  obs  tna_ind  \n1          0.0088  21.952538       NaN       NaN       NaN  252        0  \n2          0.0088  21.952538       NaN       NaN       NaN  252        0  \n3          0.0088  21.952538       NaN       NaN       NaN  252        0  \n4          0.0088  21.952538       NaN       NaN       NaN  252        0  \n5          0.0088  21.952538       NaN       NaN       NaN  252        0  \n...           ...        ...       ...       ...       ...  ...      ...  \n419086     0.0100   4.501119  0.412247       NaN       NaN   48        0  \n419087     0.0100   4.501119  0.225598       NaN       NaN   48        0  \n419088     0.0100   4.501119  0.218804       NaN       NaN   48        0  \n419089     0.0100   4.501119  0.103579       NaN  0.061163   48        0  \n419090     0.0100   4.501119  0.243483  3.048183  0.074182   48        0  \n\n[288137 rows x 14 columns]",
      "text/html": "<div>\n<style scoped>\n    .dataframe tbody tr th:only-of-type {\n        vertical-align: middle;\n    }\n\n    .dataframe tbody tr th {\n        vertical-align: top;\n    }\n\n    .dataframe thead th {\n        text-align: right;\n    }\n</style>\n<table border=\"1\" class=\"dataframe\">\n  <thead>\n    <tr style=\"text-align: right;\">\n      <th></th>\n      <th>wficn</th>\n      <th>date</th>\n      <th>mret</th>\n      <th>mtna</th>\n      <th>weight</th>\n      <th>rret</th>\n      <th>turnover</th>\n      <th>exp_ratio</th>\n      <th>age</th>\n      <th>cum_ret</th>\n      <th>flow</th>\n      <th>vol</th>\n      <th>obs</th>\n      <th>tna_ind</th>\n    </tr>\n  </thead>\n  <tbody>\n    <tr>\n      <th>1</th>\n      <td>100004.0</td>\n      <td>2000-11-30</td>\n      <td>-0.109759</td>\n      <td>26.8</td>\n      <td>8.1</td>\n      <td>-0.109026</td>\n      <td>0.35</td>\n      <td>0.0088</td>\n      <td>21.952538</td>\n      <td>NaN</td>\n      <td>NaN</td>\n      <td>NaN</td>\n      <td>252</td>\n      <td>0</td>\n    </tr>\n    <tr>\n      <th>2</th>\n      <td>100004.0</td>\n      <td>2000-12-29</td>\n      <td>-0.001117</td>\n      <td>31.9</td>\n      <td>26.8</td>\n      <td>-0.000384</td>\n      <td>0.35</td>\n      <td>0.0088</td>\n      <td>21.952538</td>\n      <td>NaN</td>\n      <td>NaN</td>\n      <td>NaN</td>\n      <td>252</td>\n      <td>0</td>\n    </tr>\n    <tr>\n      <th>3</th>\n      <td>100004.0</td>\n      <td>2001-01-31</td>\n      <td>0.023531</td>\n      <td>40.0</td>\n      <td>31.9</td>\n      <td>0.024265</td>\n      <td>0.35</td>\n      <td>0.0088</td>\n      <td>21.952538</td>\n      <td>NaN</td>\n      <td>NaN</td>\n      <td>NaN</td>\n      <td>252</td>\n      <td>0</td>\n    </tr>\n    <tr>\n      <th>4</th>\n      <td>100004.0</td>\n      <td>2001-02-28</td>\n      <td>-0.118869</td>\n      <td>36.2</td>\n      <td>40.0</td>\n      <td>-0.118136</td>\n      <td>0.35</td>\n      <td>0.0088</td>\n      <td>21.952538</td>\n      <td>NaN</td>\n      <td>NaN</td>\n      <td>NaN</td>\n      <td>252</td>\n      <td>0</td>\n    </tr>\n    <tr>\n      <th>5</th>\n      <td>100004.0</td>\n      <td>2001-03-30</td>\n      <td>-0.088326</td>\n      <td>46.2</td>\n      <td>36.2</td>\n      <td>-0.087593</td>\n      <td>0.35</td>\n      <td>0.0088</td>\n      <td>21.952538</td>\n      <td>NaN</td>\n      <td>NaN</td>\n      <td>NaN</td>\n      <td>252</td>\n      <td>0</td>\n    </tr>\n    <tr>\n      <th>...</th>\n      <td>...</td>\n      <td>...</td>\n      <td>...</td>\n      <td>...</td>\n      <td>...</td>\n      <td>...</td>\n      <td>...</td>\n      <td>...</td>\n      <td>...</td>\n      <td>...</td>\n      <td>...</td>\n      <td>...</td>\n      <td>...</td>\n      <td>...</td>\n    </tr>\n    <tr>\n      <th>419086</th>\n      <td>608350.0</td>\n      <td>2018-09-28</td>\n      <td>-0.010654</td>\n      <td>34.8</td>\n      <td>31.1</td>\n      <td>-0.009821</td>\n      <td>0.66</td>\n      <td>0.0100</td>\n      <td>4.501119</td>\n      <td>0.412247</td>\n      <td>NaN</td>\n      <td>NaN</td>\n      <td>48</td>\n      <td>0</td>\n    </tr>\n    <tr>\n      <th>419087</th>\n      <td>608350.0</td>\n      <td>2018-10-31</td>\n      <td>-0.108462</td>\n      <td>31.0</td>\n      <td>34.8</td>\n      <td>-0.107628</td>\n      <td>0.66</td>\n      <td>0.0100</td>\n      <td>4.501119</td>\n      <td>0.225598</td>\n      <td>NaN</td>\n      <td>NaN</td>\n      <td>48</td>\n      <td>0</td>\n    </tr>\n    <tr>\n      <th>419088</th>\n      <td>608350.0</td>\n      <td>2018-11-30</td>\n      <td>0.037101</td>\n      <td>35.5</td>\n      <td>31.0</td>\n      <td>0.037934</td>\n      <td>0.66</td>\n      <td>0.0100</td>\n      <td>4.501119</td>\n      <td>0.218804</td>\n      <td>NaN</td>\n      <td>NaN</td>\n      <td>48</td>\n      <td>0</td>\n    </tr>\n    <tr>\n      <th>419089</th>\n      <td>608350.0</td>\n      <td>2018-12-31</td>\n      <td>-0.081881</td>\n      <td>41.2</td>\n      <td>35.5</td>\n      <td>-0.081048</td>\n      <td>0.66</td>\n      <td>0.0100</td>\n      <td>4.501119</td>\n      <td>0.103579</td>\n      <td>NaN</td>\n      <td>0.061163</td>\n      <td>48</td>\n      <td>0</td>\n    </tr>\n    <tr>\n      <th>419090</th>\n      <td>608350.0</td>\n      <td>2019-01-31</td>\n      <td>0.154943</td>\n      <td>55.3</td>\n      <td>41.2</td>\n      <td>0.155776</td>\n      <td>0.39</td>\n      <td>0.0100</td>\n      <td>4.501119</td>\n      <td>0.243483</td>\n      <td>3.048183</td>\n      <td>0.074182</td>\n      <td>48</td>\n      <td>0</td>\n    </tr>\n  </tbody>\n</table>\n<p>288137 rows × 14 columns</p>\n</div>"
     },
     "execution_count": 126,
     "metadata": {},
     "output_type": "execute_result"
    }
   ],
   "source": [
    "returns"
   ],
   "metadata": {
    "collapsed": false,
    "pycharm": {
     "name": "#%%\n"
    }
   }
  },
  {
   "cell_type": "code",
   "execution_count": 130,
   "outputs": [],
   "source": [
    "mret=mret.reset_index()\n",
    "mret=mret[(mret['date'].astype(str)>='1980-01-01')&(mret['date'].astype(str)<'2019-02-01')]"
   ],
   "metadata": {
    "collapsed": false,
    "pycharm": {
     "name": "#%%\n"
    }
   }
  },
  {
   "cell_type": "code",
   "execution_count": 131,
   "outputs": [
    {
     "data": {
      "text/plain": "           wficn        date         0\n0       100004.0  2000-10-31 -0.003270\n1       100004.0  2000-11-30 -0.109759\n2       100004.0  2000-12-29 -0.001117\n3       100004.0  2001-01-31  0.023531\n4       100004.0  2001-02-28 -0.118869\n...          ...         ...       ...\n419086  608350.0  2018-09-28 -0.010654\n419087  608350.0  2018-10-31 -0.108462\n419088  608350.0  2018-11-30  0.037101\n419089  608350.0  2018-12-31 -0.081881\n419090  608350.0  2019-01-31  0.154943\n\n[359034 rows x 3 columns]",
      "text/html": "<div>\n<style scoped>\n    .dataframe tbody tr th:only-of-type {\n        vertical-align: middle;\n    }\n\n    .dataframe tbody tr th {\n        vertical-align: top;\n    }\n\n    .dataframe thead th {\n        text-align: right;\n    }\n</style>\n<table border=\"1\" class=\"dataframe\">\n  <thead>\n    <tr style=\"text-align: right;\">\n      <th></th>\n      <th>wficn</th>\n      <th>date</th>\n      <th>0</th>\n    </tr>\n  </thead>\n  <tbody>\n    <tr>\n      <th>0</th>\n      <td>100004.0</td>\n      <td>2000-10-31</td>\n      <td>-0.003270</td>\n    </tr>\n    <tr>\n      <th>1</th>\n      <td>100004.0</td>\n      <td>2000-11-30</td>\n      <td>-0.109759</td>\n    </tr>\n    <tr>\n      <th>2</th>\n      <td>100004.0</td>\n      <td>2000-12-29</td>\n      <td>-0.001117</td>\n    </tr>\n    <tr>\n      <th>3</th>\n      <td>100004.0</td>\n      <td>2001-01-31</td>\n      <td>0.023531</td>\n    </tr>\n    <tr>\n      <th>4</th>\n      <td>100004.0</td>\n      <td>2001-02-28</td>\n      <td>-0.118869</td>\n    </tr>\n    <tr>\n      <th>...</th>\n      <td>...</td>\n      <td>...</td>\n      <td>...</td>\n    </tr>\n    <tr>\n      <th>419086</th>\n      <td>608350.0</td>\n      <td>2018-09-28</td>\n      <td>-0.010654</td>\n    </tr>\n    <tr>\n      <th>419087</th>\n      <td>608350.0</td>\n      <td>2018-10-31</td>\n      <td>-0.108462</td>\n    </tr>\n    <tr>\n      <th>419088</th>\n      <td>608350.0</td>\n      <td>2018-11-30</td>\n      <td>0.037101</td>\n    </tr>\n    <tr>\n      <th>419089</th>\n      <td>608350.0</td>\n      <td>2018-12-31</td>\n      <td>-0.081881</td>\n    </tr>\n    <tr>\n      <th>419090</th>\n      <td>608350.0</td>\n      <td>2019-01-31</td>\n      <td>0.154943</td>\n    </tr>\n  </tbody>\n</table>\n<p>359034 rows × 3 columns</p>\n</div>"
     },
     "execution_count": 131,
     "metadata": {},
     "output_type": "execute_result"
    }
   ],
   "source": [
    "mret"
   ],
   "metadata": {
    "collapsed": false,
    "pycharm": {
     "name": "#%%\n"
    }
   }
  },
  {
   "cell_type": "code",
   "execution_count": null,
   "outputs": [],
   "source": [],
   "metadata": {
    "collapsed": false,
    "pycharm": {
     "name": "#%%\n"
    }
   }
  }
 ],
 "metadata": {
  "kernelspec": {
   "display_name": "Python 3",
   "language": "python",
   "name": "python3"
  },
  "language_info": {
   "codemirror_mode": {
    "name": "ipython",
    "version": 2
   },
   "file_extension": ".py",
   "mimetype": "text/x-python",
   "name": "python",
   "nbconvert_exporter": "python",
   "pygments_lexer": "ipython2",
   "version": "2.7.6"
  }
 },
 "nbformat": 4,
 "nbformat_minor": 0
}